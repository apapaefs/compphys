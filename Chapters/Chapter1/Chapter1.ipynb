{
 "cells": [
  {
   "cell_type": "markdown",
   "id": "f136eadb-a257-4336-9a22-40613578eaed",
   "metadata": {},
   "source": [
    "# Hello Whimsical World of Pythonic Physics!"
   ]
  },
  {
   "cell_type": "markdown",
   "id": "2bf73c6f-05e7-4cd2-8e1e-a5f797083a28",
   "metadata": {},
   "source": [
    "## Making Computers Obey\n",
    "\n",
    "### Machine Language\n",
    "\n",
    "Computers always do exactly as they are told! Instructions they understand are in a machine language. \n",
    "\n",
    "But when writing and running programs, we communicate to the computer through \"shells\", in high-level languages (e.g. Python, Java, Fortran, C, ...), or through problem-solving environments (e.g. Maple, Mathematica, Matlab, ...).  \n",
    "\n",
    "Eventually these commands/programs are translated into the basic machine language that the hardware understands. \n",
    "\n",
    "### Shells, Operating Systems and Compilers\n",
    "\n",
    "A shell: is a command-line interpreter: a small set of programs run by a computer that respond to the commands that you key in. The job of th eshell is to run programs, compilers and utilities. A demonstration of this will be given during the lectures, but we won't be using shells extensively! \n",
    "\n",
    "Operating systems, e.g. Unix, DOS, Linux, MacOS, Windows, are a group of programs used by the computer to communicate with users and devices, to store and read data, and to execute programs. \n",
    "\n",
    "When you submit a program to your computer in a high-level language, the computer uses a compiler to process it. The compiler translates your program into machine language.\n",
    "\n",
    "Fortran and C (e.g.) read the entire program and then translate it into basic machine instructions. These are known as \"compiled languages\". \n",
    "\n",
    "BASIC/Maple translate each line of program as it is entered. These are \"interpreted languages\". \n",
    "\n",
    "Python and Java are a mix of both. \n",
    "\n",
    "### Programming Warmup\n",
    "\n",
    "Here's some \"pseudocode\" for a program that intends to calculate the area of a circle: \n",
    "\n",
    "```\n",
    "read radius # the input \n",
    "calculate area of circle # the numerics\n",
    "print area # the output\n",
    "```\n",
    "\n",
    "To actually get the computer to do the numerics, we have to specify an **algorithm**. The pseudocode would then look like:\n",
    "\n",
    "```\n",
    "read radius # the input\n",
    "PI = 3.14 # a constant\n",
    "area = PI * r * r # the algorithm\n",
    "print area # output\n",
    "```\n",
    "\n",
    "### Structure and Reproducible Program Design\n",
    "\n",
    "Programming is a written art that blends the elements of science, math, and computer science into a set of instructions that permit a computer to accomplish a desired task. \n",
    "\n",
    "It is important that the source code of your program itself is available to others so that they can reproduce and extend your results!\n",
    "\n",
    "Reproducibility is an essential ingredient in science. \n",
    "\n",
    "In addition to the grammar of the computer language, a scientific program should include a number of essential elements to ensure the program's validity and useability. \n",
    "\n",
    "As with other arts, it is recommended that until you know better, you should follow some simple rules:\n",
    "\n",
    "A good program should: \n",
    "- give correct answers.\n",
    "- be clear and easy to read, with the action of each part easy to analyze.\n",
    "- document itself for the readers/programmer.\n",
    "- be easy to use.\n",
    "- be built out of small programs that can be independently verified.\n",
    "- be easy to modify and robust enough to keep giving correct answers arfter modification and simple debugging.\n",
    "- document the data fomats used.\n",
    "- use trusted libraries.\n",
    "- be published or passed onto others to use and to develop further. \n",
    "\n",
    "An elementary way to make any program clear is to structure it with indentation, skipped lines, parentheses, all placed strategically. \n",
    "\n",
    "Python uses indentation as a structure element, as well as for clarity. \n"
   ]
  },
  {
   "cell_type": "markdown",
   "id": "c2245f1a-9268-4c07-a184-4a5c7fe95a83",
   "metadata": {},
   "source": [
    "## Introduction to Python\n",
    "\n",
    "From the Python tutorial: https://docs.python.org/3.12/tutorial/index.html\n",
    "\n",
    ">\"Python is an easy to learn, powerful programming language. \n",
    ">\n",
    ">It has efficient high-level data structures and a simple but effective approach to object-oriented programming. \n",
    ">\n",
    ">Python’s elegant syntax and dynamic typing, together with its interpreted nature, make it an ideal language for scripting and rapid application development in many areas on most platforms.\"\n",
    ">\n",
    "\n",
    "Today we will learn how to use Python in a jupyter notebook (such as this one) and use it to solve some basic problems, including visualization."
   ]
  },
  {
   "cell_type": "markdown",
   "id": "0ca1a800-a0f3-458f-9ec5-63558877ac79",
   "metadata": {
    "jp-MarkdownHeadingCollapsed": true
   },
   "source": [
    "### What is Python?\n",
    "\n",
    "Python is an interpreted, interactive, object-oriented programming language. It incorporates modules, exceptions, dynamic typing, very high level dynamic data types, and classes. "
   ]
  },
  {
   "cell_type": "markdown",
   "id": "11882ba8-1f02-4a4a-9ae2-2afde1b0191a",
   "metadata": {},
   "source": [
    "### Aside: Why is it called that?!\n",
    "\n",
    "When he began implementing Python, Guido van Rossum was also reading the published scripts from “Monty Python’s Flying Circus”, a BBC comedy series from the 1970s. Van Rossum thought he needed a name that was short, unique, and slightly mysterious, so he decided to call the language Python."
   ]
  },
  {
   "cell_type": "markdown",
   "id": "a907ac20-eaf2-43a4-b931-78eb059990d3",
   "metadata": {},
   "source": [
    "### Jupyter Notebooks, the Gitlab repository and Binder \n",
    "\n",
    "There are many ways to use Python. We will explore some of them, but I will mainly be using jupyter notebooks, such as the one you are currently looking at. The easiest option is to use \"binder\" (https://mybinder.org/) in conjunction with the course code/notes repository: https://gitlab.com/apapaefs/compphys. \n",
    "\n",
    "Effectively, you can simply follow this link to open a jupyter lab: https://mybinder.org/v2/gl/apapaefs%2Fcompphys/HEAD.\n",
    "\n",
    "You will find the environment you see here (if you are in class right now!), along with the course files. "
   ]
  },
  {
   "cell_type": "markdown",
   "id": "9f350ed7-8033-4ec7-a39b-55817f173869",
   "metadata": {},
   "source": [
    "### Let's write some code!\n",
    "\n",
    "We can already write code in this notebook: "
   ]
  },
  {
   "cell_type": "code",
   "execution_count": 2,
   "id": "5695376a-424d-464b-8418-b5f234ff08c5",
   "metadata": {},
   "outputs": [
    {
     "name": "stdout",
     "output_type": "stream",
     "text": [
      "Hello Whimsical World of Pythonic Physics!\n"
     ]
    }
   ],
   "source": [
    "print(\"Hello Whimsical World of Pythonic Physics!\")"
   ]
  },
  {
   "cell_type": "markdown",
   "id": "9ee35e19-c063-4fad-ab8b-f838da68488f",
   "metadata": {},
   "source": [
    "Try it now!\n",
    "Congratulations! You've written your first program in Python!\n",
    "\n",
    "Let's now define some variables:"
   ]
  },
  {
   "cell_type": "code",
   "execution_count": 4,
   "id": "3d7fd0dd-5d1c-4897-90b9-9745f3a012b2",
   "metadata": {},
   "outputs": [],
   "source": [
    "eggs = 3\n",
    "text1 = \"Break the\"\n",
    "text2 = \"eggs\" # comments are written this way in Python"
   ]
  },
  {
   "cell_type": "markdown",
   "id": "5a3aa53b-e20e-4225-9088-cc87e76cbc51",
   "metadata": {},
   "source": [
    "You can use Python as a calculator:"
   ]
  },
  {
   "cell_type": "code",
   "execution_count": 5,
   "id": "4b5b7bfa-68e9-462f-a544-4d6a04a7e514",
   "metadata": {},
   "outputs": [
    {
     "data": {
      "text/plain": [
       "5"
      ]
     },
     "execution_count": 5,
     "metadata": {},
     "output_type": "execute_result"
    }
   ],
   "source": [
    "2 + 3"
   ]
  },
  {
   "cell_type": "code",
   "execution_count": 6,
   "id": "d68be3e4-0e25-47bb-9f97-6424eebe86ee",
   "metadata": {},
   "outputs": [
    {
     "data": {
      "text/plain": [
       "84"
      ]
     },
     "execution_count": 6,
     "metadata": {},
     "output_type": "execute_result"
    }
   ],
   "source": [
    "2 * 42"
   ]
  },
  {
   "cell_type": "code",
   "execution_count": 7,
   "id": "d1ef0341-20cd-4355-ab12-b79cf1f5e284",
   "metadata": {},
   "outputs": [
    {
     "data": {
      "text/plain": [
       "1.6"
      ]
     },
     "execution_count": 7,
     "metadata": {},
     "output_type": "execute_result"
    }
   ],
   "source": [
    "8/5"
   ]
  },
  {
   "cell_type": "markdown",
   "id": "fcf4c983-62fa-4fa4-889d-a2c9f06ad158",
   "metadata": {},
   "source": [
    "Note that the above is a float of double precision! (see later)"
   ]
  },
  {
   "cell_type": "code",
   "execution_count": 8,
   "id": "c6c7a597-8d1c-4b3d-9315-398b401c3e9b",
   "metadata": {},
   "outputs": [
    {
     "data": {
      "text/plain": [
       "9"
      ]
     },
     "execution_count": 8,
     "metadata": {},
     "output_type": "execute_result"
    }
   ],
   "source": [
    "3**2"
   ]
  },
  {
   "cell_type": "markdown",
   "id": "3cb8a847-0e53-4414-9ed2-d83ceeeb9850",
   "metadata": {},
   "source": [
    "And you can use variables during these operations: "
   ]
  },
  {
   "cell_type": "code",
   "execution_count": 9,
   "id": "5e75c144-7f4d-4c3f-a31d-55239b8a6076",
   "metadata": {},
   "outputs": [
    {
     "data": {
      "text/plain": [
       "6"
      ]
     },
     "execution_count": 9,
     "metadata": {},
     "output_type": "execute_result"
    }
   ],
   "source": [
    "eggs * 2"
   ]
  },
  {
   "cell_type": "markdown",
   "id": "4a00f8a7-00ac-422d-8400-5094735fae8a",
   "metadata": {},
   "source": [
    "It's very easy to manipulate text in Python (represented by \"strings\"). You can define strings as above, either in \"\" or ''. "
   ]
  },
  {
   "cell_type": "markdown",
   "id": "f3cf1c80-0a75-442d-a15c-c3d8d27664ef",
   "metadata": {},
   "source": [
    "text3 = text1 + \" \" + str(eggs) +  \" \" + text2\n",
    "print(text3)"
   ]
  },
  {
   "cell_type": "markdown",
   "id": "717755a0-84ed-4a02-b079-6b0b16f9beb9",
   "metadata": {},
   "source": [
    "Strings can be indexed: "
   ]
  },
  {
   "cell_type": "code",
   "execution_count": 14,
   "id": "b9b433cc-0985-4cf1-ae83-8cf3d0d9e2d8",
   "metadata": {},
   "outputs": [
    {
     "data": {
      "text/plain": [
       "'B'"
      ]
     },
     "execution_count": 14,
     "metadata": {},
     "output_type": "execute_result"
    }
   ],
   "source": [
    "text3[0]"
   ]
  },
  {
   "cell_type": "code",
   "execution_count": 15,
   "id": "d1b8530a-3db9-4069-8fd4-bc8ac00ae5ba",
   "metadata": {},
   "outputs": [
    {
     "data": {
      "text/plain": [
       "'r'"
      ]
     },
     "execution_count": 15,
     "metadata": {},
     "output_type": "execute_result"
    }
   ],
   "source": [
    "text3[1]"
   ]
  },
  {
   "cell_type": "code",
   "execution_count": 3,
   "id": "bb9abaf2-70ee-4281-a4fc-071b8cb8e68e",
   "metadata": {},
   "outputs": [],
   "source": [
    "text3 = [1, 4, 9, 16, 25]"
   ]
  },
  {
   "cell_type": "markdown",
   "id": "6ece38ab-7544-4aca-9795-f02f4dcbaa51",
   "metadata": {},
   "source": [
    "Negative integers start counting from the right:"
   ]
  },
  {
   "cell_type": "code",
   "execution_count": 17,
   "id": "be8b577f-d81c-4775-a289-3854950b31d3",
   "metadata": {},
   "outputs": [
    {
     "data": {
      "text/plain": [
       "'s'"
      ]
     },
     "execution_count": 17,
     "metadata": {},
     "output_type": "execute_result"
    }
   ],
   "source": [
    "text3[-1]"
   ]
  },
  {
   "cell_type": "code",
   "execution_count": 18,
   "id": "a8bf5588-e86e-4642-b7a5-c24c7f45c381",
   "metadata": {},
   "outputs": [
    {
     "data": {
      "text/plain": [
       "'g'"
      ]
     },
     "execution_count": 18,
     "metadata": {},
     "output_type": "execute_result"
    }
   ],
   "source": [
    "text3[-2]"
   ]
  },
  {
   "cell_type": "markdown",
   "id": "4bcf7d62-dcea-4b73-8559-c36bafb82a13",
   "metadata": {},
   "source": [
    "You can also \"slice\" strings: "
   ]
  },
  {
   "cell_type": "code",
   "execution_count": 20,
   "id": "9e789c0c-bfee-4a6e-8421-760361f5fec2",
   "metadata": {},
   "outputs": [
    {
     "data": {
      "text/plain": [
       "'Br'"
      ]
     },
     "execution_count": 20,
     "metadata": {},
     "output_type": "execute_result"
    }
   ],
   "source": [
    "text3[0:2]  # characters from position 0 (included) to 2 (excluded)"
   ]
  },
  {
   "cell_type": "code",
   "execution_count": 21,
   "id": "5b4568d5-6bd8-4f6e-86b6-dc52d1bc1a97",
   "metadata": {},
   "outputs": [
    {
     "data": {
      "text/plain": [
       "'eak'"
      ]
     },
     "execution_count": 21,
     "metadata": {},
     "output_type": "execute_result"
    }
   ],
   "source": [
    "text3[2:5]  # characters from position 2 (included) to 5 (excluded)"
   ]
  },
  {
   "cell_type": "code",
   "execution_count": 22,
   "id": "c104ca12-6de0-472d-a7b1-3bbace26ba93",
   "metadata": {},
   "outputs": [
    {
     "data": {
      "text/plain": [
       "'k the 3 eggs'"
      ]
     },
     "execution_count": 22,
     "metadata": {},
     "output_type": "execute_result"
    }
   ],
   "source": [
    "text3[4:]   # characters from position 4 (included) to the end"
   ]
  },
  {
   "cell_type": "markdown",
   "id": "2b4c5564-3f4a-4283-bda2-9f9c98086873",
   "metadata": {},
   "source": [
    "len() tells you how long a string is:"
   ]
  },
  {
   "cell_type": "code",
   "execution_count": 23,
   "id": "1fbffc87-af90-4026-9386-9ac117459bb3",
   "metadata": {},
   "outputs": [
    {
     "data": {
      "text/plain": [
       "16"
      ]
     },
     "execution_count": 23,
     "metadata": {},
     "output_type": "execute_result"
    }
   ],
   "source": [
    "len(text3)"
   ]
  },
  {
   "cell_type": "markdown",
   "id": "0cf2d704-5a08-475b-b800-282ddbeb1e72",
   "metadata": {},
   "source": [
    "Lists are used to group together values. They are written as a list of comma-separated values (items) between square brackets. They may contain items of different types but usually the items all have the same type."
   ]
  },
  {
   "cell_type": "code",
   "execution_count": 4,
   "id": "c9ddfae0-5458-4fea-b0eb-b2daeef9657b",
   "metadata": {},
   "outputs": [],
   "source": [
    "squares = [1, 4, 9, 16, 25]"
   ]
  },
  {
   "cell_type": "markdown",
   "id": "6b3c4eb6-599f-4b0d-a78e-5af4e5bbba33",
   "metadata": {},
   "source": [
    "Like strings, lists can be indexed and sliced:"
   ]
  },
  {
   "cell_type": "code",
   "execution_count": 6,
   "id": "e84194ec-c7de-4fee-9baa-f9ac47d4648f",
   "metadata": {},
   "outputs": [
    {
     "data": {
      "text/plain": [
       "16"
      ]
     },
     "execution_count": 6,
     "metadata": {},
     "output_type": "execute_result"
    }
   ],
   "source": [
    "squares[3]  # indexing returns the item"
   ]
  },
  {
   "cell_type": "code",
   "execution_count": 27,
   "id": "875fc0f4-bda9-4114-8a19-2d6305ad96f8",
   "metadata": {},
   "outputs": [
    {
     "data": {
      "text/plain": [
       "25"
      ]
     },
     "execution_count": 27,
     "metadata": {},
     "output_type": "execute_result"
    }
   ],
   "source": [
    "squares[-1] # indexing returns the last item"
   ]
  },
  {
   "cell_type": "code",
   "execution_count": 28,
   "id": "ff9142e4-6b70-479b-adf5-c6d63afc2773",
   "metadata": {},
   "outputs": [
    {
     "data": {
      "text/plain": [
       "[4, 9, 16, 25]"
      ]
     },
     "execution_count": 28,
     "metadata": {},
     "output_type": "execute_result"
    }
   ],
   "source": [
    "squares[1:] # returns the second element up to the end"
   ]
  },
  {
   "cell_type": "markdown",
   "id": "317c8fbe-23ba-4abf-9855-48305c96f8eb",
   "metadata": {},
   "source": [
    "Lists also support operations like concatenation:"
   ]
  },
  {
   "cell_type": "code",
   "execution_count": 29,
   "id": "4267eef9-ce94-42f5-a3ab-b96c4e401f73",
   "metadata": {},
   "outputs": [
    {
     "data": {
      "text/plain": [
       "[1, 4, 9, 16, 25, 36, 49, 64, 81, 100]"
      ]
     },
     "execution_count": 29,
     "metadata": {},
     "output_type": "execute_result"
    }
   ],
   "source": [
    "squares + [36, 49, 64, 81, 100]"
   ]
  },
  {
   "cell_type": "markdown",
   "id": "d192be67-cda0-455c-8749-756c6c32c246",
   "metadata": {},
   "source": [
    "Unlike strings, which are immutable, lists are a mutable type, i.e. it is possible to change their content:"
   ]
  },
  {
   "cell_type": "code",
   "execution_count": 30,
   "id": "2dcba7b6-8fc7-48d9-9976-04abccf1bf18",
   "metadata": {},
   "outputs": [
    {
     "data": {
      "text/plain": [
       "64"
      ]
     },
     "execution_count": 30,
     "metadata": {},
     "output_type": "execute_result"
    }
   ],
   "source": [
    "cubes = [1, 8, 27, 65, 125]  # something's wrong here\n",
    "4 ** 3  # the cube of 4 is 64, not 65!"
   ]
  },
  {
   "cell_type": "code",
   "execution_count": 31,
   "id": "2444c271-d47d-4eed-8adf-598da9fd5725",
   "metadata": {},
   "outputs": [
    {
     "data": {
      "text/plain": [
       "[1, 8, 27, 64, 125]"
      ]
     },
     "execution_count": 31,
     "metadata": {},
     "output_type": "execute_result"
    }
   ],
   "source": [
    "cubes[3] = 64  # replace the wrong value\n",
    "cubes"
   ]
  },
  {
   "cell_type": "markdown",
   "id": "718f0c38-0681-46b4-ae36-471a917aa6a9",
   "metadata": {},
   "source": [
    "You can also add new items at the end of the list, by using the list.append() method:"
   ]
  },
  {
   "cell_type": "code",
   "execution_count": 32,
   "id": "b6c23969-f999-43bf-bd6e-087e1509cdbd",
   "metadata": {},
   "outputs": [
    {
     "data": {
      "text/plain": [
       "[1, 8, 27, 64, 125, 216, 343]"
      ]
     },
     "execution_count": 32,
     "metadata": {},
     "output_type": "execute_result"
    }
   ],
   "source": [
    "cubes.append(216)  # add the cube of 6\n",
    "cubes.append(7 ** 3)  # and the cube of 7\n",
    "cubes"
   ]
  },
  {
   "cell_type": "markdown",
   "id": "53135823-7c0f-48dc-8fc4-78b7c69f9e82",
   "metadata": {},
   "source": [
    "len() also applies to lists:"
   ]
  },
  {
   "cell_type": "code",
   "execution_count": 33,
   "id": "7863e52a-b96a-4967-baad-4ef8e261187c",
   "metadata": {},
   "outputs": [
    {
     "data": {
      "text/plain": [
       "7"
      ]
     },
     "execution_count": 33,
     "metadata": {},
     "output_type": "execute_result"
    }
   ],
   "source": [
    "len(cubes)"
   ]
  },
  {
   "cell_type": "markdown",
   "id": "75fa490e-3a1f-4b2f-832b-6394c61b3c9d",
   "metadata": {},
   "source": [
    "Let's use Python to write down the first few terms in the Fobonacci series: "
   ]
  },
  {
   "cell_type": "code",
   "execution_count": 15,
   "id": "88797fee-6ea2-41ea-b91c-de253c400353",
   "metadata": {},
   "outputs": [
    {
     "name": "stdout",
     "output_type": "stream",
     "text": [
      "0\n",
      "1\n",
      "1\n",
      "2\n",
      "3\n",
      "5\n",
      "8\n"
     ]
    }
   ],
   "source": [
    "# Fibonacci series:\n",
    "# the sum of two elements defines the next\n",
    "a = 0\n",
    "b = 1 # define the first two\n",
    "while a < 10: # do this while the number a is less than 10, stop when it exceeds 10.\n",
    "    print(a) # print the next number in the series\n",
    "    c = b\n",
    "    b = a+c # a becomes the next number to be printed, and calculate the one after that.\n",
    "    a = c\n"
   ]
  },
  {
   "cell_type": "markdown",
   "id": "f78a300a-9cca-49f7-8a6b-9f093c3fddf9",
   "metadata": {},
   "source": [
    "## Control Flow Tools"
   ]
  },
  {
   "cell_type": "markdown",
   "id": "2d85116b-76b4-482d-9452-80b0ce91396a",
   "metadata": {},
   "source": [
    "### ```if``` Statements\n",
    "One of the most well-known statement type is the ```if``` statement. An example:"
   ]
  },
  {
   "cell_type": "code",
   "execution_count": 18,
   "id": "a7e7f004-40c8-4151-aac2-9ad9d7f13cf8",
   "metadata": {},
   "outputs": [
    {
     "name": "stdin",
     "output_type": "stream",
     "text": [
      "Please enter an integer:  -1\n"
     ]
    }
   ],
   "source": [
    "x = int(input(\"Please enter an integer: \"))"
   ]
  },
  {
   "cell_type": "code",
   "execution_count": 19,
   "id": "5d65e365-26fd-4a3a-b650-f9d636f075e5",
   "metadata": {},
   "outputs": [
    {
     "name": "stdout",
     "output_type": "stream",
     "text": [
      "Negative integer detected, changed to zero!\n"
     ]
    }
   ],
   "source": [
    "if x < 0: \n",
    "    x = 0\n",
    "    print('Negative integer detected, changed to zero!')\n",
    "elif x == 0:\n",
    "    print(\"Zero\")\n",
    "elif x == 1:\n",
    "    print(\"One\")\n",
    "else: \n",
    "    print(\"Positive integer, not one\")"
   ]
  },
  {
   "cell_type": "markdown",
   "id": "213f38f7-4dc7-4573-bc68-3012dc4419ee",
   "metadata": {},
   "source": [
    "'elif' is short for 'else if', there can be any number of such statements (including none). 'else' is optional and is 'triggered' if all other statements are not satisfied. "
   ]
  },
  {
   "cell_type": "markdown",
   "id": "ad423fc7-9c19-49b5-842b-7cb704e4ab8b",
   "metadata": {},
   "source": [
    "### ```for``` Statements\n",
    "Python's ```for``` statement iterates over the items of any sequence (e.g. a list or a string), in the order they appear in the sequence. E.g.:"
   ]
  },
  {
   "cell_type": "code",
   "execution_count": 21,
   "id": "7129ec14-abbe-474c-9acf-1182c6784888",
   "metadata": {},
   "outputs": [
    {
     "name": "stdout",
     "output_type": "stream",
     "text": [
      "Einstein 8\n",
      "Galileo 7\n",
      "Copernicus 10\n"
     ]
    }
   ],
   "source": [
    "# measure the length of all the strings in a list:\n",
    "words = ['Einstein', 'Galileo', 'Copernicus']\n",
    "for w in words:\n",
    "    print(w, len(w))"
   ]
  },
  {
   "cell_type": "markdown",
   "id": "b1104673-4046-444b-9560-ff4237c1f7e3",
   "metadata": {},
   "source": [
    "If instead you want to iterate over the sequence of numbers, thne range() function comes in handy:"
   ]
  },
  {
   "cell_type": "code",
   "execution_count": 22,
   "id": "f06a3b6b-a4b5-41eb-8c02-281315145852",
   "metadata": {},
   "outputs": [
    {
     "name": "stdout",
     "output_type": "stream",
     "text": [
      "Einstein 8\n",
      "Galileo 7\n",
      "Copernicus 10\n"
     ]
    }
   ],
   "source": [
    "for i in range(3):\n",
    "    print(words[i], len(words[i]))"
   ]
  },
  {
   "cell_type": "markdown",
   "id": "cf48019a-c932-45b1-8131-1d39a8b32a0e",
   "metadata": {},
   "source": [
    "or, equivalently:"
   ]
  },
  {
   "cell_type": "code",
   "execution_count": 24,
   "id": "6da05643-f74b-4958-b770-8470145ff9df",
   "metadata": {},
   "outputs": [
    {
     "name": "stdout",
     "output_type": "stream",
     "text": [
      "0 Einstein 8\n",
      "1 Galileo 7\n",
      "2 Copernicus 10\n"
     ]
    }
   ],
   "source": [
    "for i in range(len(words)):\n",
    "    print(i, words[i], len(words[i]))"
   ]
  },
  {
   "cell_type": "markdown",
   "id": "b9c704db-d5c4-4a19-9400-0fb345e45b33",
   "metadata": {},
   "source": [
    "### ```break``` and ```continue``` Statements, and ```else``` Clauses on Loops\n",
    "The break statement breaks out the innermost enclosing for or while loop. E.g.:"
   ]
  },
  {
   "cell_type": "code",
   "execution_count": 26,
   "id": "ee783322-ceab-47cd-bd1d-1a08dd9174a9",
   "metadata": {},
   "outputs": [
    {
     "name": "stdout",
     "output_type": "stream",
     "text": [
      "Einstein\n",
      "Copernicus\n"
     ]
    }
   ],
   "source": [
    "for w in words:\n",
    "    if w == 'Galileo':\n",
    "        continue\n",
    "    print(w)"
   ]
  },
  {
   "cell_type": "markdown",
   "id": "ccfcc48a-eb38-488a-be9e-e7d2565f86d9",
   "metadata": {},
   "source": [
    "A ```for``` or ```while``` loop can include an ```else``` clause. In a ```for``` loop the ```else``` clause is executed after the loop reaches its final iteration. In a ```while``` loop, it's executed after the loop's condition becomes false. In either kind of loop, the ```else``` clause is *not* executed if the loop was terminated by a ```break```. "
   ]
  },
  {
   "cell_type": "markdown",
   "id": "58f339df-d61a-4a46-9195-5a90ef20245c",
   "metadata": {},
   "source": [
    "In the following example, an ```else``` clause is used at the end of a ```for``` loop which contains an ```if``` statement that checks whether a number is divisible by all numbers smaller than itself. (The ```n % x``` part calculates the remainder of the division n/x)."
   ]
  },
  {
   "cell_type": "code",
   "execution_count": 48,
   "id": "3b9e5842-1f52-49fd-a072-a95e7a32a0c7",
   "metadata": {},
   "outputs": [
    {
     "name": "stdout",
     "output_type": "stream",
     "text": [
      "2 is a prime number\n",
      "3 is a prime number\n",
      "4 equals 2 * 2.0\n",
      "5 is a prime number\n",
      "6 equals 2 * 3.0\n",
      "7 is a prime number\n",
      "8 equals 2 * 4.0\n",
      "9 equals 3 * 3.0\n"
     ]
    }
   ],
   "source": [
    "for n in range(2,10):\n",
    "    for x in range(2, n):\n",
    "        if n%x==0:\n",
    "            print(n, 'equals', x, '*', n/x)\n",
    "            break # we have found a number smaller than n is a factor of n, so n is not a prime number! -> break the for loop here -> else is not executed!\n",
    "    else: \n",
    "        # loop fell through without finding a factor \n",
    "        print(n, 'is a prime number')"
   ]
  },
  {
   "cell_type": "markdown",
   "id": "948cfcf1-a3be-4325-98ad-62e6225b7776",
   "metadata": {},
   "source": [
    "The ```continue``` statement continues with the next iteration of the loop:"
   ]
  },
  {
   "cell_type": "code",
   "execution_count": 49,
   "id": "6bcca8f9-f5b6-459d-9c92-4be5039b7239",
   "metadata": {},
   "outputs": [
    {
     "name": "stdout",
     "output_type": "stream",
     "text": [
      "Found an even number 2\n",
      "Found an odd number 3\n",
      "Found an even number 4\n",
      "Found an odd number 5\n",
      "Found an even number 6\n",
      "Found an odd number 7\n",
      "Found an even number 8\n",
      "Found an odd number 9\n"
     ]
    }
   ],
   "source": [
    "for num in range(2, 10):\n",
    "    if num % 2 == 0:\n",
    "        print(\"Found an even number\", num)\n",
    "        continue\n",
    "    print(\"Found an odd number\", num)"
   ]
  },
  {
   "cell_type": "markdown",
   "id": "4ec838cb-a506-4dc1-9d13-481b34ffb7ae",
   "metadata": {},
   "source": [
    "## Defining Functions"
   ]
  },
  {
   "cell_type": "code",
   "execution_count": null,
   "id": "ceaf1e56-c2e0-4421-a79e-da9a9759906b",
   "metadata": {},
   "outputs": [],
   "source": [
    "We can create a function that writes the Fibonacci series to an arbitrary boundary:"
   ]
  },
  {
   "cell_type": "code",
   "execution_count": 66,
   "id": "5979eb9e-2ea5-40cb-bea5-d8bc49a8754a",
   "metadata": {},
   "outputs": [],
   "source": [
    "def fib(n):    # write Fibonacci series up to n\n",
    "    \"\"\"Print a Fibonacci series up to n.\"\"\"\n",
    "    a, b = 0, 1\n",
    "    while a < n:\n",
    "        print(a, end=' ')\n",
    "        a, b = b, a+b"
   ]
  },
  {
   "cell_type": "markdown",
   "id": "3e6fd7d7-6f58-4a75-9821-df5f95b7404e",
   "metadata": {},
   "source": [
    "The keyword ```def``` introduces a function definition. It must be followed by the function name and the parenthesized list of formal parameters. The statements that form the body of the function start at the next line, and must be indented. The first statement of the function body can optionally be a string literal; this string literal is the function’s documentation string.\n",
    "\n",
    "We can execute the function by calling it with a parameter, e.g.:"
   ]
  },
  {
   "cell_type": "code",
   "execution_count": 67,
   "id": "1114a5a8-ede4-4f00-a69e-96cb19fea695",
   "metadata": {},
   "outputs": [
    {
     "name": "stdout",
     "output_type": "stream",
     "text": [
      "0 1 1 2 3 5 8 13 21 34 55 89 144 233 377 610 987 1597 "
     ]
    }
   ],
   "source": [
    "fib(2000)"
   ]
  },
  {
   "cell_type": "markdown",
   "id": "48301bf1-55dd-4f9a-978f-19c2f7cea209",
   "metadata": {},
   "source": [
    "Functions without ```return``` statements return ```None```: "
   ]
  },
  {
   "cell_type": "code",
   "execution_count": 68,
   "id": "940d3a63-fccf-4319-b6ba-da7b528d30ce",
   "metadata": {},
   "outputs": [
    {
     "name": "stdout",
     "output_type": "stream",
     "text": [
      "0 1 1 2 3 5 8 13 21 34 55 89 144 233 377 610 987 1597 None\n"
     ]
    }
   ],
   "source": [
    "print(fib(2000))"
   ]
  },
  {
   "cell_type": "markdown",
   "id": "4b28cc34-2962-4748-a7cd-5776db3b5531",
   "metadata": {},
   "source": [
    "We can instead create a function that *returns* the values we are after, e.g. in a list: "
   ]
  },
  {
   "cell_type": "code",
   "execution_count": 69,
   "id": "203bb1ad-4d7f-42ce-ae1b-5098d3acb0d3",
   "metadata": {},
   "outputs": [],
   "source": [
    "def fib2(n):  # return Fibonacci series up to n\n",
    "    \"\"\"Return a list containing the Fibonacci series up to n.\"\"\"\n",
    "    result = []\n",
    "    a, b = 0, 1\n",
    "    while a < n:\n",
    "        result.append(a)    # see below\n",
    "        a, b = b, a+b\n",
    "    return result"
   ]
  },
  {
   "cell_type": "markdown",
   "id": "48fc0bd1-99e2-4d9b-b711-e0c60b49140a",
   "metadata": {},
   "source": [
    "And we can call it to create a list, e.g. ```fib100```:"
   ]
  },
  {
   "cell_type": "code",
   "execution_count": 70,
   "id": "88cb76c7-7c50-4a1e-9d88-851cbce5f30b",
   "metadata": {},
   "outputs": [],
   "source": [
    "f100 = fib2(100)"
   ]
  },
  {
   "cell_type": "code",
   "execution_count": 71,
   "id": "2e48f0db-9e89-4b6e-a0d5-7a2279b33bbb",
   "metadata": {},
   "outputs": [
    {
     "name": "stdout",
     "output_type": "stream",
     "text": [
      "[0, 1, 1, 2, 3, 5, 8, 13, 21, 34, 55, 89]\n"
     ]
    }
   ],
   "source": [
    "print(f100)"
   ]
  },
  {
   "cell_type": "markdown",
   "id": "bd04e99b-e026-493e-ab80-33e5dee29aba",
   "metadata": {},
   "source": [
    "Note that ```append``` is a ```method``` that acts on the list object ```result``` to add a new element at its end. \n",
    "\n",
    "For more details on defining functions, see https://docs.python.org/3/tutorial/controlflow.html#more-on-defining-functions. We will discuss some of those aspects where necessary during the course. "
   ]
  },
  {
   "cell_type": "markdown",
   "id": "9fe015f3-6276-47be-8bcc-b442d719abcc",
   "metadata": {},
   "source": [
    "## Data Structures\n",
    "\n",
    "### List Methods\n",
    "\n",
    "We already mentionewd the ```list.append()```  method for a list. The list data type has some more methods, some of which are: \n",
    "\n",
    "- ```list.append(x)```: Add an item to the end of the list. Equivalent to ```a[len(a):] = [x]```.\n",
    "- ```list.insert(i, x)```: Insert an item at a given position. The first argument is the index of the element before which to insert, so ```a.insert(0, x)``` inserts at the front of the list, and ```a.insert(len(a), x)``` is equivalent to ```a.append(x)```.\n",
    "- ```list.remove(x)```: Remove the first item from the list whose value is equal to x. It raises a ValueError if there is no such item.\n",
    "- ```list.pop([i])```: Remove the item at the given position in the list, and return it. If no index is specified, a.pop() removes and returns the last item in the list. (The square brackets around the i in the method signature denote that the parameter is optional, not that you should type square brackets at that position. You will see this notation frequently in the Python Library Reference.)\n",
    "- ```list.clear()```: Remove all items from the list.\n",
    "- ```list.count(x)```: Return the number of times x appears in the list.\n",
    "- ```list.reverse()```: Reverse the elements of the list in place.\n",
    "- ```list.sort(*, key=None, reverse=False)```: Sort the items of the list in place (the arguments can be used for sort customization, see sorted() for their explanation).\n",
    "- ```list.reverse()```: Reverse the elements of the list in place.\n",
    "- ```list.copy()```: Return a shallow copy of the list. Equivalent to ```a[:]```.\n",
    "\n",
    "The following examples use several of the list methods: "
   ]
  },
  {
   "cell_type": "code",
   "execution_count": 77,
   "id": "bfd95cd4-1845-4122-b3c9-ddae1e65369b",
   "metadata": {},
   "outputs": [],
   "source": [
    "fruits = ['orange', 'apple', 'pear', 'banana', 'kiwi', 'apple', 'banana']"
   ]
  },
  {
   "cell_type": "code",
   "execution_count": 78,
   "id": "96b14829-057c-49e1-91e7-c90933aad77f",
   "metadata": {},
   "outputs": [
    {
     "data": {
      "text/plain": [
       "2"
      ]
     },
     "execution_count": 78,
     "metadata": {},
     "output_type": "execute_result"
    }
   ],
   "source": [
    "fruits.count('apple')"
   ]
  },
  {
   "cell_type": "code",
   "execution_count": 79,
   "id": "57bb83ac-3a17-49ee-ab9b-fbb997b7fb59",
   "metadata": {},
   "outputs": [
    {
     "data": {
      "text/plain": [
       "0"
      ]
     },
     "execution_count": 79,
     "metadata": {},
     "output_type": "execute_result"
    }
   ],
   "source": [
    "fruits.count('tangerine')"
   ]
  },
  {
   "cell_type": "code",
   "execution_count": 80,
   "id": "c5dad907-0681-4d6f-b1f7-1f3136d9d27a",
   "metadata": {},
   "outputs": [
    {
     "data": {
      "text/plain": [
       "3"
      ]
     },
     "execution_count": 80,
     "metadata": {},
     "output_type": "execute_result"
    }
   ],
   "source": [
    "fruits.index('banana')"
   ]
  },
  {
   "cell_type": "code",
   "execution_count": 81,
   "id": "8291911b-4f8e-4652-bc83-000b8e20a524",
   "metadata": {},
   "outputs": [
    {
     "data": {
      "text/plain": [
       "6"
      ]
     },
     "execution_count": 81,
     "metadata": {},
     "output_type": "execute_result"
    }
   ],
   "source": [
    "fruits.index('banana', 4)  # Find next banana starting at position 4"
   ]
  },
  {
   "cell_type": "code",
   "execution_count": 82,
   "id": "c3ea4fc8-f2b3-4d33-807e-d6e1c705416f",
   "metadata": {},
   "outputs": [
    {
     "data": {
      "text/plain": [
       "['banana', 'apple', 'kiwi', 'banana', 'pear', 'apple', 'orange']"
      ]
     },
     "execution_count": 82,
     "metadata": {},
     "output_type": "execute_result"
    }
   ],
   "source": [
    "fruits.reverse()\n",
    "fruits"
   ]
  },
  {
   "cell_type": "code",
   "execution_count": 83,
   "id": "bfd28a85-ffcd-4f9e-8fa9-7a5838e7ca07",
   "metadata": {},
   "outputs": [
    {
     "data": {
      "text/plain": [
       "['banana', 'apple', 'kiwi', 'banana', 'pear', 'apple', 'orange', 'grape']"
      ]
     },
     "execution_count": 83,
     "metadata": {},
     "output_type": "execute_result"
    }
   ],
   "source": [
    "fruits.append('grape')\n",
    "fruits"
   ]
  },
  {
   "cell_type": "code",
   "execution_count": 84,
   "id": "ca00174c-17bd-4b61-ab16-5ad856c2afdf",
   "metadata": {},
   "outputs": [
    {
     "data": {
      "text/plain": [
       "['apple', 'apple', 'banana', 'banana', 'grape', 'kiwi', 'orange', 'pear']"
      ]
     },
     "execution_count": 84,
     "metadata": {},
     "output_type": "execute_result"
    }
   ],
   "source": [
    "fruits.sort()\n",
    "fruits"
   ]
  },
  {
   "cell_type": "code",
   "execution_count": 85,
   "id": "a356f1df-9d3a-4d19-988a-0f31fb36601b",
   "metadata": {},
   "outputs": [
    {
     "data": {
      "text/plain": [
       "'pear'"
      ]
     },
     "execution_count": 85,
     "metadata": {},
     "output_type": "execute_result"
    }
   ],
   "source": [
    "fruits.pop()"
   ]
  },
  {
   "cell_type": "markdown",
   "id": "341c6089-02ca-44b5-b9ce-159c618a2f46",
   "metadata": {},
   "source": [
    "### List Comprehensions\n",
    "\n",
    "List comprehensions provide a concise way to create lists. Common applications are to make new lists where each element is the result of some operations applied to each member of another sequence or iterable, or to create a subsequence of those elements that satisfy a certain condition.\n",
    "\n",
    "E.g. let's assume we want to create a list of squares, like: "
   ]
  },
  {
   "cell_type": "code",
   "execution_count": 86,
   "id": "aed8ba52-becd-4591-84cb-35912f084cf4",
   "metadata": {},
   "outputs": [
    {
     "data": {
      "text/plain": [
       "[0, 1, 4, 9, 16, 25, 36, 49, 64, 81]"
      ]
     },
     "execution_count": 86,
     "metadata": {},
     "output_type": "execute_result"
    }
   ],
   "source": [
    "squares = []\n",
    "for x in range(10):\n",
    "    squares.append(x**2)\n",
    "squares"
   ]
  },
  {
   "cell_type": "markdown",
   "id": "94a592ff-3fc0-4215-93f9-b5dda426b2d5",
   "metadata": {},
   "source": [
    "We can instead use a *list comprehension*: "
   ]
  },
  {
   "cell_type": "code",
   "execution_count": 88,
   "id": "6d68996b-b145-41b9-ab13-cbf05f443705",
   "metadata": {},
   "outputs": [
    {
     "data": {
      "text/plain": [
       "[0, 1, 4, 9, 16, 25, 36, 49, 64, 81]"
      ]
     },
     "execution_count": 88,
     "metadata": {},
     "output_type": "execute_result"
    }
   ],
   "source": [
    "squares = [x**2 for x in range(10)]\n",
    "squares"
   ]
  },
  {
   "cell_type": "markdown",
   "id": "7611f8e3-8db3-42e0-9ee0-dd2a1b07a638",
   "metadata": {},
   "source": [
    "A list comprehension consists of brackets containing an expression followed by a ```for``` clause, then zero or more for or ```if``` clauses. The result will be a new list resulting from evaluating the expression in the context of the for and if clauses which follow it. \n",
    "\n",
    "E.g. Let's say we want the even numbers in the squares list:"
   ]
  },
  {
   "cell_type": "code",
   "execution_count": 90,
   "id": "24dbc0a3-b1ba-4b49-b07d-d052d3063908",
   "metadata": {},
   "outputs": [
    {
     "data": {
      "text/plain": [
       "[0, 4, 16, 36, 64]"
      ]
     },
     "execution_count": 90,
     "metadata": {},
     "output_type": "execute_result"
    }
   ],
   "source": [
    "even_squares = [y for y in squares if y%2 == 0]\n",
    "even_squares"
   ]
  },
  {
   "cell_type": "markdown",
   "id": "9269e7e9-8afc-46ad-ab3f-f0e6f6626c62",
   "metadata": {},
   "source": [
    "### Tuples and Sequences\n",
    "\n",
    "We saw that lists and strings have many common properties, such as indexing and slicing operations. They are two examples of sequence data types (see Sequence Types — list, tuple, range). There is also another standard sequence data type: the tuple.\n",
    "\n",
    "A tuple consists of a number of values separated by commas, for instance:"
   ]
  },
  {
   "cell_type": "code",
   "execution_count": 92,
   "id": "2f53ca5a-77e3-4e5c-8a7d-5f7f6ba82817",
   "metadata": {},
   "outputs": [
    {
     "data": {
      "text/plain": [
       "12345"
      ]
     },
     "execution_count": 92,
     "metadata": {},
     "output_type": "execute_result"
    }
   ],
   "source": [
    "t = 12345, 54321, 'hello!'\n",
    "t[0]"
   ]
  },
  {
   "cell_type": "code",
   "execution_count": 93,
   "id": "574e884e-ad1c-46bb-bec4-dd356233b60a",
   "metadata": {},
   "outputs": [
    {
     "data": {
      "text/plain": [
       "((12345, 54321, 'hello!'), (1, 2, 3, 4, 5))"
      ]
     },
     "execution_count": 93,
     "metadata": {},
     "output_type": "execute_result"
    }
   ],
   "source": [
    "# Tuples may be nested:\n",
    "u = t, (1, 2, 3, 4, 5)\n",
    "u"
   ]
  },
  {
   "cell_type": "markdown",
   "id": "c65ba2ce-5437-4b6e-bd14-d4b7efe54ad5",
   "metadata": {},
   "source": [
    "As you see, on output tuples are always enclosed in parentheses, so that nested tuples are interpreted correctly; they may be input with or without surrounding parentheses, although often parentheses are necessary anyway (if the tuple is part of a larger expression). It is not possible to assign to the individual items of a tuple, however it is possible to create tuples which contain mutable objects, such as lists.\n",
    "\n",
    "Though tuples may seem similar to lists, they are often used in different situations and for different purposes. Tuples are *immutable*, and usually contain a heterogeneous sequence of elements that are accessed via unpacking (see later) or indexing. Lists are mutable, and their elements are usually homogeneous and are accessed by iterating over the list."
   ]
  },
  {
   "cell_type": "code",
   "execution_count": 94,
   "id": "7b2103a0-6d82-4d68-aac2-d7d49f83498a",
   "metadata": {},
   "outputs": [
    {
     "ename": "TypeError",
     "evalue": "'tuple' object does not support item assignment",
     "output_type": "error",
     "traceback": [
      "\u001b[0;31m---------------------------------------------------------------------------\u001b[0m",
      "\u001b[0;31mTypeError\u001b[0m                                 Traceback (most recent call last)",
      "Cell \u001b[0;32mIn[94], line 2\u001b[0m\n\u001b[1;32m      1\u001b[0m \u001b[38;5;66;03m# Tuples are immutable:\u001b[39;00m\n\u001b[0;32m----> 2\u001b[0m \u001b[43mt\u001b[49m\u001b[43m[\u001b[49m\u001b[38;5;241;43m0\u001b[39;49m\u001b[43m]\u001b[49m \u001b[38;5;241m=\u001b[39m \u001b[38;5;241m88888\u001b[39m\n",
      "\u001b[0;31mTypeError\u001b[0m: 'tuple' object does not support item assignment"
     ]
    }
   ],
   "source": [
    "# Tuples are immutable:\n",
    "t[0] = 88888"
   ]
  },
  {
   "cell_type": "markdown",
   "id": "735ede92-227b-4dcb-804a-43ce6d9d0d1d",
   "metadata": {},
   "source": [
    "### Dictionaries\n",
    "\n",
    "Another useful data type built into Python is the dictionary. Unlike sequences, which are indexed by a range of numbers, dictionaries are indexed by *keys*, which can be any immutable type; strings and numbers can always be keys. Tuples can be used as keys if they contain only strings, numbers, or tuples; if a tuple contains any mutable object either directly or indirectly, it cannot be used as a key. You can’t use lists as keys, since lists can be modified in place using index assignments, slice assignments, or methods like append() and extend().\n",
    "\n",
    "It is best to think of a dictionary as a set of key: value pairs, with the requirement that the keys are unique (within one dictionary). A pair of braces creates an empty dictionary: {}. Placing a comma-separated list of key:value pairs within the braces adds initial key:value pairs to the dictionary; this is also the way dictionaries are written on output.\n",
    "\n",
    "The main operations on a dictionary are storing a value with some key and extracting the value given the key. It is also possible to delete a key:value pair with del. If you store using a key that is already in use, the old value associated with that key is forgotten. It is an error to extract a value using a non-existent key.\n",
    "\n",
    "Performing ```list(d)``` on a dictionary returns a list of all the keys used in the dictionary, in insertion order (if you want it sorted, just use ```sorted(d)``` instead). To check whether a single key is in the dictionary, use the in keyword.\n",
    "\n",
    "Here is a small example using a dictionary:"
   ]
  },
  {
   "cell_type": "code",
   "execution_count": 95,
   "id": "5323ced3-9898-44e4-998f-46ecd1ba40ad",
   "metadata": {},
   "outputs": [
    {
     "data": {
      "text/plain": [
       "{'jack': 4098, 'sape': 4139, 'guido': 4127}"
      ]
     },
     "execution_count": 95,
     "metadata": {},
     "output_type": "execute_result"
    }
   ],
   "source": [
    "tel = {'jack': 4098, 'sape': 4139}\n",
    "tel['guido'] = 4127\n",
    "tel"
   ]
  },
  {
   "cell_type": "code",
   "execution_count": 96,
   "id": "327906ba-d00f-4563-a17c-19081b2290b2",
   "metadata": {},
   "outputs": [
    {
     "data": {
      "text/plain": [
       "4098"
      ]
     },
     "execution_count": 96,
     "metadata": {},
     "output_type": "execute_result"
    }
   ],
   "source": [
    "tel['jack']"
   ]
  },
  {
   "cell_type": "code",
   "execution_count": 97,
   "id": "bf68c9bd-5c75-49d1-affb-fdd00dedf8cf",
   "metadata": {},
   "outputs": [
    {
     "data": {
      "text/plain": [
       "{'jack': 4098, 'guido': 4127, 'irv': 4127}"
      ]
     },
     "execution_count": 97,
     "metadata": {},
     "output_type": "execute_result"
    }
   ],
   "source": [
    "del tel['sape']\n",
    "tel['irv'] = 4127\n",
    "tel"
   ]
  },
  {
   "cell_type": "code",
   "execution_count": 98,
   "id": "0212719c-222a-4617-9ff0-18c4eacccfbc",
   "metadata": {},
   "outputs": [
    {
     "data": {
      "text/plain": [
       "['jack', 'guido', 'irv']"
      ]
     },
     "execution_count": 98,
     "metadata": {},
     "output_type": "execute_result"
    }
   ],
   "source": [
    "list(tel)"
   ]
  },
  {
   "cell_type": "code",
   "execution_count": 99,
   "id": "4d8a7fc4-7b32-4547-8b7c-48f6942d658f",
   "metadata": {},
   "outputs": [
    {
     "data": {
      "text/plain": [
       "['guido', 'irv', 'jack']"
      ]
     },
     "execution_count": 99,
     "metadata": {},
     "output_type": "execute_result"
    }
   ],
   "source": [
    "sorted(tel)"
   ]
  },
  {
   "cell_type": "code",
   "execution_count": 100,
   "id": "7af88350-9452-430a-8e97-79aba9942a43",
   "metadata": {},
   "outputs": [
    {
     "data": {
      "text/plain": [
       "True"
      ]
     },
     "execution_count": 100,
     "metadata": {},
     "output_type": "execute_result"
    }
   ],
   "source": [
    "'guido' in tel"
   ]
  },
  {
   "cell_type": "code",
   "execution_count": 101,
   "id": "6e5a90d7-225a-4174-9db8-c902e5c812e5",
   "metadata": {},
   "outputs": [
    {
     "data": {
      "text/plain": [
       "False"
      ]
     },
     "execution_count": 101,
     "metadata": {},
     "output_type": "execute_result"
    }
   ],
   "source": [
    "'jack' not in tel"
   ]
  },
  {
   "cell_type": "markdown",
   "id": "8207859e-5f5b-469f-b66e-6bac74f905b7",
   "metadata": {},
   "source": [
    "The ```dict()``` constructor builds dictionaries directly from sequences of key-value pairs:"
   ]
  },
  {
   "cell_type": "code",
   "execution_count": 103,
   "id": "64d81de0-c1e1-4b47-9739-2f03b8d3a734",
   "metadata": {},
   "outputs": [
    {
     "data": {
      "text/plain": [
       "{'sape': 4139, 'guido': 4127, 'jack': 4098}"
      ]
     },
     "execution_count": 103,
     "metadata": {},
     "output_type": "execute_result"
    }
   ],
   "source": [
    "dict([('sape', 4139), ('guido', 4127), ('jack', 4098)])"
   ]
  },
  {
   "cell_type": "markdown",
   "id": "534c6143-1c7f-48fe-bbed-3a5b3a0adf6f",
   "metadata": {},
   "source": [
    "In addition, dict comprehensions can be used to create dictionaries from arbitrary key and value expressions:"
   ]
  },
  {
   "cell_type": "code",
   "execution_count": 104,
   "id": "e89106c6-1b27-4f5f-9214-09e5d8d61c3e",
   "metadata": {},
   "outputs": [
    {
     "data": {
      "text/plain": [
       "{2: 4, 4: 16, 6: 36}"
      ]
     },
     "execution_count": 104,
     "metadata": {},
     "output_type": "execute_result"
    }
   ],
   "source": [
    "{x: x**2 for x in (2, 4, 6)}"
   ]
  },
  {
   "cell_type": "code",
   "execution_count": null,
   "id": "23a6e414-54c3-4c62-b3f8-59bb55913af7",
   "metadata": {},
   "outputs": [],
   "source": [
    "When the keys are simple strings, it is sometimes easier to specify pairs using keyword arguments:"
   ]
  },
  {
   "cell_type": "code",
   "execution_count": 105,
   "id": "03d089fb-7dd6-444c-b1af-91a61c101511",
   "metadata": {},
   "outputs": [
    {
     "data": {
      "text/plain": [
       "{'sape': 4139, 'guido': 4127, 'jack': 4098}"
      ]
     },
     "execution_count": 105,
     "metadata": {},
     "output_type": "execute_result"
    }
   ],
   "source": [
    "dict(sape=4139, guido=4127, jack=4098)"
   ]
  },
  {
   "cell_type": "markdown",
   "id": "09425ed8-269f-407e-8df1-1e6ced37973f",
   "metadata": {},
   "source": [
    "### Looping Techniques\n",
    "\n",
    "When looping through dictionaries, the key and corresponding value can be retrieved at the same time using the ```items()``` method:"
   ]
  },
  {
   "cell_type": "code",
   "execution_count": 106,
   "id": "ceb468ec-530c-499d-b323-8f4c98d35af4",
   "metadata": {},
   "outputs": [
    {
     "name": "stdout",
     "output_type": "stream",
     "text": [
      "gallahad the pure\n",
      "robin the brave\n"
     ]
    }
   ],
   "source": [
    "knights = {'gallahad': 'the pure', 'robin': 'the brave'}\n",
    "for k, v in knights.items():\n",
    "    print(k, v)"
   ]
  },
  {
   "cell_type": "markdown",
   "id": "ced73c36-a39a-4a8b-9221-e9856d20fe6d",
   "metadata": {},
   "source": [
    "When looping through a sequence, the position index and corresponding value can be retrieved at the same time using the enumerate() function."
   ]
  },
  {
   "cell_type": "code",
   "execution_count": 108,
   "id": "d86888ed-58c8-45ca-bd74-a4a6d88eeb1f",
   "metadata": {},
   "outputs": [
    {
     "name": "stdout",
     "output_type": "stream",
     "text": [
      "0 tic\n",
      "1 tac\n",
      "2 toe\n"
     ]
    }
   ],
   "source": [
    "for i, v in enumerate(['tic', 'tac', 'toe']):\n",
    "    print(i, v)"
   ]
  },
  {
   "cell_type": "markdown",
   "id": "0dfe8ecf-42cb-4ed8-af5b-336dca31d1f4",
   "metadata": {},
   "source": [
    "To loop over two or more sequences at the same time, the entries can be paired with the zip() function."
   ]
  },
  {
   "cell_type": "code",
   "execution_count": 109,
   "id": "ac336422-db6d-44c2-992d-b7d973642d82",
   "metadata": {},
   "outputs": [
    {
     "name": "stdout",
     "output_type": "stream",
     "text": [
      "What is your name?  It is lancelot.\n",
      "What is your quest?  It is the holy grail.\n",
      "What is your favorite color?  It is blue.\n"
     ]
    }
   ],
   "source": [
    "questions = ['name', 'quest', 'favorite color']\n",
    "answers = ['lancelot', 'the holy grail', 'blue']\n",
    "for q, a in zip(questions, answers):\n",
    "    print('What is your {0}?  It is {1}.'.format(q, a))"
   ]
  },
  {
   "cell_type": "markdown",
   "id": "785b588d-911d-4457-ad6f-b4f7399110c1",
   "metadata": {},
   "source": [
    "To loop over a sequence in sorted order, use the ```sorted()``` function which returns a new sorted list while leaving the source unaltered."
   ]
  },
  {
   "cell_type": "code",
   "execution_count": 110,
   "id": "4f2c32a5-30e0-4e97-a787-846c3329e012",
   "metadata": {},
   "outputs": [
    {
     "name": "stdout",
     "output_type": "stream",
     "text": [
      "apple\n",
      "apple\n",
      "banana\n",
      "orange\n",
      "orange\n",
      "pear\n"
     ]
    }
   ],
   "source": [
    "basket = ['apple', 'orange', 'apple', 'pear', 'orange', 'banana']\n",
    "for i in sorted(basket):\n",
    "    print(i)"
   ]
  },
  {
   "cell_type": "markdown",
   "id": "77224577-f639-4030-90e1-91cd5d91852d",
   "metadata": {},
   "source": [
    "Using ```set()``` on a sequence eliminates duplicate elements. The use of ```sorted()``` in combination with ```set()``` over a sequence is an idiomatic way to loop over unique elements of the sequence in sorted order."
   ]
  },
  {
   "cell_type": "code",
   "execution_count": 112,
   "id": "10d44392-8f39-4ccf-8670-09cbd8d0a69e",
   "metadata": {},
   "outputs": [
    {
     "name": "stdout",
     "output_type": "stream",
     "text": [
      "apple\n",
      "banana\n",
      "orange\n",
      "pear\n"
     ]
    }
   ],
   "source": [
    "basket = ['apple', 'orange', 'apple', 'pear', 'orange', 'banana']\n",
    "for f in sorted(set(basket)):\n",
    "    print(f)"
   ]
  },
  {
   "cell_type": "markdown",
   "id": "579dedbc-d983-4310-b56d-854059f03468",
   "metadata": {},
   "source": [
    "## Modules"
   ]
  },
  {
   "cell_type": "markdown",
   "id": "e31f0d64-143b-4663-a82a-2f188cb85645",
   "metadata": {},
   "source": [
    "### User-Defined Modules\n",
    "If you quit from the Python interpreter and enter it again, the definitions you have made (functions and variables) are lost. The same happens when you open a new jupyter notebook. Therefore, if you want to write a somewhat longer program, you are better off using a text editor to prepare the input for the interpreter and running it with that file as input instead. This is known as creating a script. As your program gets longer, you may want to split it into several files for easier maintenance. You may also want to use a handy function that you’ve written in several programs without copying its definition into each program.\n",
    "\n",
    "To support this, Python has a way to put definitions in a file and use them in a script or in an interactive instance of the interpreter. Such a file is called a *module*; definitions from a module can be imported into other modules or into the main module (the collection of variables that you have access to in a script executed at the top level and in calculator mode).\n",
    "\n",
    "A module is a file containing Python definitions and statements. The file name is the module name with the suffix .py appended. Within a module, the module’s name (as a string) is available as the value of the global variable ```__name__```. For instance, we have created a file called ```fibo.py``` in the current directory with the following contents:"
   ]
  },
  {
   "cell_type": "code",
   "execution_count": 113,
   "id": "492002f6-0ca5-4869-a993-c122ed056a71",
   "metadata": {},
   "outputs": [],
   "source": [
    "# Fibonacci numbers module\n",
    "\n",
    "def fib(n):    # write Fibonacci series up to n\n",
    "    a, b = 0, 1\n",
    "    while a < n:\n",
    "        print(a, end=' ')\n",
    "        a, b = b, a+b\n",
    "    print()\n",
    "\n",
    "def fib2(n):   # return Fibonacci series up to n\n",
    "    result = []\n",
    "    a, b = 0, 1\n",
    "    while a < n:\n",
    "        result.append(a)\n",
    "        a, b = b, a+b\n",
    "    return result"
   ]
  },
  {
   "cell_type": "markdown",
   "id": "6b6916d6-2ffc-4e14-9c7b-7b11436a51d1",
   "metadata": {},
   "source": [
    "Let's import this module:"
   ]
  },
  {
   "cell_type": "code",
   "execution_count": 114,
   "id": "41b294ae-77aa-42f4-8ed7-884b04f0e180",
   "metadata": {},
   "outputs": [],
   "source": [
    "import fibo"
   ]
  },
  {
   "cell_type": "markdown",
   "id": "ef6dde3e-3055-4ad6-93c0-6c47ec874306",
   "metadata": {},
   "source": [
    "This does not add the names of the functions defined in fibo directly to the current namespace; it only adds the module name fibo there. Using the module name you can access the functions:"
   ]
  },
  {
   "cell_type": "code",
   "execution_count": 115,
   "id": "e6d8cad0-e230-459e-b04a-cc9129e498e6",
   "metadata": {},
   "outputs": [
    {
     "name": "stdout",
     "output_type": "stream",
     "text": [
      "0 1 1 2 3 5 8 13 21 34 55 89 144 233 377 610 987 \n"
     ]
    }
   ],
   "source": [
    "fibo.fib(1000)"
   ]
  },
  {
   "cell_type": "code",
   "execution_count": 116,
   "id": "b2931c3f-474b-4975-8f88-65464761e2ae",
   "metadata": {},
   "outputs": [
    {
     "data": {
      "text/plain": [
       "[0, 1, 1, 2, 3, 5, 8, 13, 21, 34, 55, 89]"
      ]
     },
     "execution_count": 116,
     "metadata": {},
     "output_type": "execute_result"
    }
   ],
   "source": [
    "fibo.fib2(100)"
   ]
  },
  {
   "cell_type": "code",
   "execution_count": 117,
   "id": "833ee611-4f86-495a-87a7-15f1e3319e7e",
   "metadata": {},
   "outputs": [
    {
     "data": {
      "text/plain": [
       "'fibo'"
      ]
     },
     "execution_count": 117,
     "metadata": {},
     "output_type": "execute_result"
    }
   ],
   "source": [
    "fibo.__name__"
   ]
  },
  {
   "cell_type": "markdown",
   "id": "93a4e58a-7445-4c12-b9fe-50be4895e46f",
   "metadata": {},
   "source": [
    "There is a variant of the import statement that imports names from a module directly into the importing module’s namespace. For example:"
   ]
  },
  {
   "cell_type": "code",
   "execution_count": 119,
   "id": "cfec6f79-3cc6-4908-a145-a754a2145d4d",
   "metadata": {},
   "outputs": [
    {
     "name": "stdout",
     "output_type": "stream",
     "text": [
      "0 1 1 2 3 5 8 13 21 34 55 89 144 233 377 \n"
     ]
    }
   ],
   "source": [
    "from fibo import fib, fib2\n",
    "fib(500)"
   ]
  },
  {
   "cell_type": "markdown",
   "id": "0f0d13de-ec82-4aec-bb40-8c3794f05e4f",
   "metadata": {},
   "source": [
    "There is even a variant to import all names that a module defines:"
   ]
  },
  {
   "cell_type": "code",
   "execution_count": 120,
   "id": "ebdf10d7-40f5-4867-ba7d-d23f47e89ccc",
   "metadata": {},
   "outputs": [
    {
     "name": "stdout",
     "output_type": "stream",
     "text": [
      "0 1 1 2 3 5 8 13 21 34 55 89 144 233 377 \n"
     ]
    }
   ],
   "source": [
    "from fibo import *\n",
    "fib(500)"
   ]
  },
  {
   "cell_type": "markdown",
   "id": "582b934d-4845-4cfa-9ef0-e21180c944de",
   "metadata": {},
   "source": [
    "If the module name is followed by ```as```, then the name following ```as``` is bound directly to the imported module. This is effectively importing the module in the same way that ```import fibo``` will do, with the only difference of it being available as ```fib```."
   ]
  },
  {
   "cell_type": "code",
   "execution_count": 121,
   "id": "a3975dd6-c522-47e4-a793-7ccbc40a92b4",
   "metadata": {},
   "outputs": [
    {
     "name": "stdout",
     "output_type": "stream",
     "text": [
      "0 1 1 2 3 5 8 13 21 34 55 89 144 233 377 \n"
     ]
    }
   ],
   "source": [
    "import fibo as fib\n",
    "fib.fib(500)"
   ]
  },
  {
   "cell_type": "code",
   "execution_count": null,
   "id": "cf5f94c4-cf66-4d0b-bd43-e260b850ae3e",
   "metadata": {},
   "outputs": [],
   "source": [
    "It can also be used when utilising ```from``` with similar effects:"
   ]
  },
  {
   "cell_type": "code",
   "execution_count": 122,
   "id": "333bce33-3c9f-438f-965a-eeabc58d9d79",
   "metadata": {},
   "outputs": [
    {
     "name": "stdout",
     "output_type": "stream",
     "text": [
      "0 1 1 2 3 5 8 13 21 34 55 89 144 233 377 \n"
     ]
    }
   ],
   "source": [
    "from fibo import fib as fibonacci\n",
    "fibonacci(500)"
   ]
  },
  {
   "cell_type": "markdown",
   "id": "97148da9-cd3a-4395-9593-bb9f2d2a897a",
   "metadata": {},
   "source": [
    "### Standard Modules and the Standard Library\n",
    "\n",
    "Python comes with a library of standard modules, described in a separate document, the Python Library Reference (“Library Reference” hereafter). The built-in function dir() is used to find out which names a module defines. It returns a sorted list of strings:"
   ]
  },
  {
   "cell_type": "code",
   "execution_count": 125,
   "id": "725e29f6-f046-4869-bd96-71a7861ca282",
   "metadata": {},
   "outputs": [
    {
     "data": {
      "text/plain": [
       "['__builtins__',\n",
       " '__cached__',\n",
       " '__doc__',\n",
       " '__file__',\n",
       " '__loader__',\n",
       " '__name__',\n",
       " '__package__',\n",
       " '__spec__',\n",
       " 'fib',\n",
       " 'fib2']"
      ]
     },
     "execution_count": 125,
     "metadata": {},
     "output_type": "execute_result"
    }
   ],
   "source": [
    "import fibo\n",
    "dir(fibo)"
   ]
  },
  {
   "cell_type": "markdown",
   "id": "df6ad19b-9e86-45ce-a6a0-2c67866ae86b",
   "metadata": {},
   "source": [
    "For a longer introduction to the standard library, check out: https://docs.python.org/3/tutorial/stdlib.html. Here, we will go through a few basic modules, and we will introduce more during the course. \n",
    "\n",
    "The math module gives access to the underlying C library functions for floating point math:"
   ]
  },
  {
   "cell_type": "code",
   "execution_count": 126,
   "id": "11d3213c-3a16-42b3-84a5-1544c4d4c7d2",
   "metadata": {},
   "outputs": [
    {
     "data": {
      "text/plain": [
       "0.7071067811865476"
      ]
     },
     "execution_count": 126,
     "metadata": {},
     "output_type": "execute_result"
    }
   ],
   "source": [
    "import math\n",
    "math.cos(math.pi / 4)"
   ]
  },
  {
   "cell_type": "code",
   "execution_count": 127,
   "id": "43adc2b7-9636-42c9-9057-10a45322ee84",
   "metadata": {},
   "outputs": [
    {
     "data": {
      "text/plain": [
       "10.0"
      ]
     },
     "execution_count": 127,
     "metadata": {},
     "output_type": "execute_result"
    }
   ],
   "source": [
    "math.log(1024, 2)"
   ]
  },
  {
   "cell_type": "markdown",
   "id": "96276c73-ce24-4c91-95e5-55e62609085f",
   "metadata": {},
   "source": [
    "The random module provides tools for making random selections:"
   ]
  },
  {
   "cell_type": "code",
   "execution_count": 128,
   "id": "97aaf7b9-de97-40c7-ab3d-29af446543cf",
   "metadata": {},
   "outputs": [
    {
     "data": {
      "text/plain": [
       "'banana'"
      ]
     },
     "execution_count": 128,
     "metadata": {},
     "output_type": "execute_result"
    }
   ],
   "source": [
    "import random\n",
    "random.choice(['apple', 'pear', 'banana'])"
   ]
  },
  {
   "cell_type": "code",
   "execution_count": 129,
   "id": "3d157b63-5d72-4279-9b58-91740d7ad12c",
   "metadata": {},
   "outputs": [
    {
     "data": {
      "text/plain": [
       "[95, 54, 74, 84, 9, 25, 0, 8, 94, 49]"
      ]
     },
     "execution_count": 129,
     "metadata": {},
     "output_type": "execute_result"
    }
   ],
   "source": [
    "random.sample(range(100), 10)   # sampling without replacement"
   ]
  },
  {
   "cell_type": "code",
   "execution_count": 130,
   "id": "60b5cdff-ec2f-4941-9276-3a71bcec7660",
   "metadata": {},
   "outputs": [
    {
     "data": {
      "text/plain": [
       "0.004938036800039014"
      ]
     },
     "execution_count": 130,
     "metadata": {},
     "output_type": "execute_result"
    }
   ],
   "source": [
    "random.random()    # random float"
   ]
  },
  {
   "cell_type": "code",
   "execution_count": 131,
   "id": "4bffc3c8-1c49-4002-85d4-a552eee16447",
   "metadata": {},
   "outputs": [
    {
     "data": {
      "text/plain": [
       "5"
      ]
     },
     "execution_count": 131,
     "metadata": {},
     "output_type": "execute_result"
    }
   ],
   "source": [
    "random.randrange(6) "
   ]
  },
  {
   "cell_type": "markdown",
   "id": "d7f57669-76b4-4e97-ad3f-6ad165a490f2",
   "metadata": {},
   "source": [
    "The statistics module calculates basic statistical properties (the mean, median, variance, etc.) of numeric data:"
   ]
  },
  {
   "cell_type": "code",
   "execution_count": 135,
   "id": "f5f77f67-2cc7-4c31-a9a4-d34b18da6c3e",
   "metadata": {},
   "outputs": [
    {
     "name": "stdout",
     "output_type": "stream",
     "text": [
      "1.6071428571428572\n",
      "1.25\n",
      "1.3720238095238095\n"
     ]
    }
   ],
   "source": [
    "import statistics\n",
    "data = [2.75, 1.75, 1.25, 0.25, 0.5, 1.25, 3.5]\n",
    "print(statistics.mean(data))\n",
    "print(statistics.median(data))\n",
    "print(statistics.variance(data))"
   ]
  },
  {
   "cell_type": "markdown",
   "id": "1c4f57c9-61d2-4007-b4ba-072206170599",
   "metadata": {},
   "source": [
    "### NumPy \n",
    "\n",
    "NumPy is the fundamental package for scientific computing in Python. It is a Python library that provides a multidimensional array object, various derived objects (such as masked arrays and matrices), and an assortment of routines for fast operations on arrays, including mathematical, logical, shape manipulation, sorting, selecting, I/O, discrete Fourier transforms, basic linear algebra, basic statistical operations, random simulation and much more.\n",
    "\n",
    "To access NumPy and its functions import it:\n"
   ]
  },
  {
   "cell_type": "code",
   "execution_count": 2,
   "id": "b6fc4c67-c18b-42cb-b8a1-d90ce672983a",
   "metadata": {},
   "outputs": [],
   "source": [
    "import numpy as np"
   ]
  },
  {
   "cell_type": "markdown",
   "id": "efaecb5c-dc64-48b0-8d7a-f41d1b871e15",
   "metadata": {},
   "source": [
    "Python lists vs NumPy arrays: \n",
    "\n",
    "NumPy gives you an enormous range of fast and efficient ways of creating arrays and manipulating numerical data inside them. While a Python list can contain different data types within a single list, all of the elements in a NumPy array should be homogeneous. The mathematical operations that are meant to be performed on arrays would be extremely inefficient if the arrays weren’t homogeneous.\n",
    "\n",
    "NumPy arrays are faster and more compact than Python lists. An array consumes less memory and is convenient to use. NumPy uses much less memory to store data and it provides a mechanism of specifying the data types. This allows the code to be optimized even further.\n",
    "\n",
    "One way we can initialize NumPy arrays is from Python lists, using nested lists for two- or higher-dimensional data.\n",
    "\n"
   ]
  },
  {
   "cell_type": "code",
   "execution_count": 3,
   "id": "f8b39b04-5fa7-4181-a281-c991f6bb8733",
   "metadata": {},
   "outputs": [],
   "source": [
    "a = np.array([1, 2, 3, 4, 5, 6])"
   ]
  },
  {
   "cell_type": "markdown",
   "id": "f22a9043-d44f-45b0-acfa-fc7d537fb50f",
   "metadata": {},
   "source": [
    "The elements can be accessed in the same way as lists, e.g.:"
   ]
  },
  {
   "cell_type": "code",
   "execution_count": 4,
   "id": "e4c28b39-c775-49cd-8b2b-fa1612717b13",
   "metadata": {},
   "outputs": [
    {
     "name": "stdout",
     "output_type": "stream",
     "text": [
      "1\n"
     ]
    }
   ],
   "source": [
    "print(a[0])"
   ]
  },
  {
   "cell_type": "markdown",
   "id": "b2094253-1650-49fb-afaa-fd3a131eb0b3",
   "metadata": {},
   "source": [
    "You can add the arrays together with the plus sign."
   ]
  },
  {
   "cell_type": "code",
   "execution_count": 5,
   "id": "ef1191c7-1a98-4d6e-ab6c-33c89c1c32a5",
   "metadata": {},
   "outputs": [
    {
     "data": {
      "text/plain": [
       "array([2, 3])"
      ]
     },
     "execution_count": 5,
     "metadata": {},
     "output_type": "execute_result"
    }
   ],
   "source": [
    "data = np.array([1, 2])\n",
    "ones = np.ones(2, dtype=int)\n",
    "data + ones"
   ]
  },
  {
   "cell_type": "markdown",
   "id": "f5fe8654-4871-45e8-96e5-a37904471210",
   "metadata": {},
   "source": [
    "You can, of course, do more than just addition!"
   ]
  },
  {
   "cell_type": "code",
   "execution_count": 6,
   "id": "05ce4123-e871-435c-a1c4-427c4ed7a954",
   "metadata": {},
   "outputs": [
    {
     "data": {
      "text/plain": [
       "array([0, 1])"
      ]
     },
     "execution_count": 6,
     "metadata": {},
     "output_type": "execute_result"
    }
   ],
   "source": [
    "data - ones"
   ]
  },
  {
   "cell_type": "code",
   "execution_count": 7,
   "id": "b62cd61f-5b3b-4521-a4dc-30eaa2252d50",
   "metadata": {},
   "outputs": [
    {
     "data": {
      "text/plain": [
       "array([1, 4])"
      ]
     },
     "execution_count": 7,
     "metadata": {},
     "output_type": "execute_result"
    }
   ],
   "source": [
    "data * data"
   ]
  },
  {
   "cell_type": "code",
   "execution_count": 8,
   "id": "8d352cc9-fab8-485d-b534-d78ca1b35702",
   "metadata": {},
   "outputs": [
    {
     "data": {
      "text/plain": [
       "array([1., 1.])"
      ]
     },
     "execution_count": 8,
     "metadata": {},
     "output_type": "execute_result"
    }
   ],
   "source": [
    "data / data"
   ]
  },
  {
   "cell_type": "markdown",
   "id": "1a15b76f-da60-430f-ae6d-cb4e0ff2ad59",
   "metadata": {},
   "source": [
    "Basic operations are simple with NumPy. If you want to find the sum of the elements in an array, you’d use ```sum()```. This works for 1D arrays, 2D arrays, and arrays in higher dimensions."
   ]
  },
  {
   "cell_type": "code",
   "execution_count": 11,
   "id": "0d2b0721-cb0c-43b9-b29b-d32024074572",
   "metadata": {},
   "outputs": [
    {
     "data": {
      "text/plain": [
       "10"
      ]
     },
     "execution_count": 11,
     "metadata": {},
     "output_type": "execute_result"
    }
   ],
   "source": [
    "a = np.array([1, 2, 3, 4])\n",
    "a.sum()"
   ]
  },
  {
   "cell_type": "markdown",
   "id": "ae7db9ea-8164-4953-b48b-3219dadf840f",
   "metadata": {},
   "source": [
    "There are times when you might want to carry out an operation between an array and a single number (also called an operation between a vector and a scalar) or between arrays of two different sizes:"
   ]
  },
  {
   "cell_type": "code",
   "execution_count": 12,
   "id": "94575bf5-877e-4ba8-b911-4a3009661c5c",
   "metadata": {},
   "outputs": [
    {
     "data": {
      "text/plain": [
       "array([1.6, 3.2])"
      ]
     },
     "execution_count": 12,
     "metadata": {},
     "output_type": "execute_result"
    }
   ],
   "source": [
    "data = np.array([1.0, 2.0])\n",
    "data * 1.6"
   ]
  },
  {
   "cell_type": "markdown",
   "id": "2a773a4d-9152-4ddf-ad54-8ba804d21d32",
   "metadata": {},
   "source": [
    "With NumPy you can create and manipulate matrices, generate random numbers, and much more! We will discuss specific applications during the course, but see https://numpy.org/doc/stable/index.html for detailed documentation. "
   ]
  },
  {
   "cell_type": "markdown",
   "id": "5f1a5ad9-85bc-4962-a898-9835ead7891c",
   "metadata": {},
   "source": [
    "### SciPy\n",
    "\n",
    "SciPy provides algorithms for optimization, integration, interpolation, eigenvalue problems, algebraic equations, differential equations, statistics and many other classes of problems. It is built on NumPy . It adds significant power to Python by providing the user with high-level commands and classes for manipulating and visualizing data.\n",
    "\n",
    "Some subpackages of interest to physics are:\n",
    "\n",
    "- Physical and mathematical constants (```scipy.constants```)\n",
    "- Special functions (```scipy.special```)\n",
    "- Integration (```scipy.integrate```)\n",
    "- Optimization (```scipy.interpolate```)\n",
    "- Fourier transforms (```scipy.fft```)\n",
    "- Signal processing (```scipy.signal```)\n",
    "- Linear Algebra (```scipy.linalg```)\n",
    "- Spatial data structures and algorithms (```scipy.spatial```)\n",
    "\n",
    "See https://docs.scipy.org/doc/scipy/tutorial/index.html#subpackages for the full list of subpackages. \n",
    "\n",
    "Some examples:"
   ]
  },
  {
   "cell_type": "code",
   "execution_count": 74,
   "id": "bc11751f-3d79-41b9-ac9c-a35c91d3684d",
   "metadata": {},
   "outputs": [],
   "source": [
    "import scipy\n",
    "from scipy import constants, special, integrate"
   ]
  },
  {
   "cell_type": "code",
   "execution_count": 75,
   "id": "7d7c6f17-f6d4-4fcc-8326-9626f45fdf37",
   "metadata": {},
   "outputs": [
    {
     "data": {
      "image/png": "[encoded data removed]",
      "text/latex": [
       "$\\displaystyle 299792458.0$"
      ],
      "text/plain": [
       "299792458.0"
      ]
     },
     "execution_count": 75,
     "metadata": {},
     "output_type": "execute_result"
    }
   ],
   "source": [
    "scipy.constants.speed_of_light # get the speed of light"
   ]
  },
  {
   "cell_type": "code",
   "execution_count": 76,
   "id": "a3783d61-0173-4165-abd7-50535edf8a80",
   "metadata": {},
   "outputs": [
    {
     "data": {
      "text/plain": [
       "array([ 5.1356223 ,  8.41724414, 11.61984117, 14.79595178, 17.95981949,\n",
       "       21.11699705, 24.27011231, 27.42057355, 30.5692045 , 33.71651951])"
      ]
     },
     "execution_count": 76,
     "metadata": {},
     "output_type": "execute_result"
    }
   ],
   "source": [
    "# Compute the first ten zeros of integer-order Bessel functions Jn.\n",
    "scipy.special.jn_zeros(2,10)"
   ]
  },
  {
   "cell_type": "code",
   "execution_count": 26,
   "id": "dcff8e50-3b49-4a3b-beef-594cb98ac7d6",
   "metadata": {},
   "outputs": [
    {
     "data": {
      "text/plain": [
       "(0.946083070367183, 1.0503632079297087e-14)"
      ]
     },
     "execution_count": 26,
     "metadata": {},
     "output_type": "execute_result"
    }
   ],
   "source": [
    "# Calculate the definite integral of sinx/x in [0,1]\n",
    "scipy.integrate.quad(lambda x: np.sin(x)/x, 0, 1)"
   ]
  },
  {
   "cell_type": "markdown",
   "id": "ea4caf20-f11f-46f9-b64c-97aa7ef4f6a9",
   "metadata": {},
   "source": [
    "### Matplotlib (Plotting)\n",
    "\n",
    "\"If I can't picture it, I can't understand it.\" - Albert Einstein\n",
    "\n",
    "From the Matplotlib page: https://matplotlib.org:\n",
    "\n",
    "> Matplotlib is a comprehensive library for creating static, animated, and interactive visualizations in Python. Matplotlib makes easy things easy and hard things possible.\n",
    "\n",
    "Let's start with a minimal example here (following https://matplotlib.org/stable/users/getting_started/):"
   ]
  },
  {
   "cell_type": "code",
   "execution_count": 1,
   "id": "8b46a7a1-8091-40ca-a8c4-5552be44fe12",
   "metadata": {},
   "outputs": [
    {
     "data": {
      "image/png": "[encoded data removed]",
      "text/plain": [
       "<Figure size 640x480 with 1 Axes>"
      ]
     },
     "metadata": {},
     "output_type": "display_data"
    }
   ],
   "source": [
    "import matplotlib.pyplot as plt # import matplotlib, a conventional module name is plt\n",
    "import numpy as np\n",
    "\n",
    "x = np.linspace(0, 2 * np.pi, 200) # creates a NumPy array from 0 to 2pi, 200 equallys-paced points  \n",
    "y = np.sin(x) # take the NumPy array and create another one, where each term is now the sine of each of the elements of the above NumPy array\n",
    "\n",
    "fig, ax = plt.subplots() # create the elements required for matplotlib. This creates a figure containing a single set of axes.\n",
    "\n",
    "ax.plot(x, y) # make a one-dimensional plot using the above arrays\n",
    "\n",
    "plt.show() # show the plot here"
   ]
  },
  {
   "cell_type": "markdown",
   "id": "aa98c028-54b9-4af5-a021-aee1e08c8c4b",
   "metadata": {},
   "source": [
    "Let's add a title, axis labels and a legend:"
   ]
  },
  {
   "cell_type": "code",
   "execution_count": 7,
   "id": "afd8d9fe-71e4-4f85-93fb-6a50813fc865",
   "metadata": {},
   "outputs": [
    {
     "data": {
      "image/png": "[encoded data removed]",
      "text/plain": [
       "<Figure size 640x480 with 1 Axes>"
      ]
     },
     "metadata": {},
     "output_type": "display_data"
    }
   ],
   "source": [
    "import matplotlib.pyplot as plt # import matplotlib, a conventional module name is plt\n",
    "import numpy as np\n",
    "\n",
    "x = np.linspace(0, 2 * np.pi, 200) # creates a NumPy array from 0 to 2pi, 200 equallys-paced points  \n",
    "y = np.sin(x) # take the NumPy array and create another one, where each term is now the sine of each of the elements of the above NumPy array\n",
    "\n",
    "fig, ax = plt.subplots() # create the elements required for matplotlib. This creates a figure containing a single axes.\n",
    "\n",
    "# set the labels and titles:\n",
    "ax.set_xlabel(r'$x$', fontsize=20) # set the x label\n",
    "ax.set_ylabel(r'$\\sin (x)$', fontsize=20) # set the y label. Note that the 'r' is necessary to remove the need for double slashes. You can use LaTeX! \n",
    "ax.set_title('A first plot using Matplotlib', fontsize=25) # set the title \n",
    "\n",
    "# make a one-dimensional plot using the above arrays, add a custom label\n",
    "ax.plot(x, y, label='a sine curve') \n",
    "\n",
    "# construct the legend:\n",
    "ax.legend(loc='upper right')  # Add a legend\n",
    "\n",
    "plt.show() # show the plot here"
   ]
  },
  {
   "cell_type": "markdown",
   "id": "07ff3081-8f0e-4fa0-893a-c060db62b5b7",
   "metadata": {},
   "source": [
    "You can also change the labels of the axes to whatever you like, and plot vertical (or horizontal) lines:"
   ]
  },
  {
   "cell_type": "code",
   "execution_count": 9,
   "id": "d3d707c3-d078-4914-9725-3a3876a25ed8",
   "metadata": {},
   "outputs": [
    {
     "data": {
      "image/png": "[encoded data removed]",
      "text/plain": [
       "<Figure size 640x480 with 1 Axes>"
      ]
     },
     "metadata": {},
     "output_type": "display_data"
    }
   ],
   "source": [
    "import matplotlib.pyplot as plt # import matplotlib, a conventional module name is plt\n",
    "import numpy as np\n",
    "from math import pi\n",
    "\n",
    "x = np.linspace(0, 2 * np.pi, 200) # creates a NumPy array from 0 to 2pi, 200 equallys-paced points  \n",
    "y = np.sin(x) # take the NumPy array and create another one, where each term is now the sine of each of the elements of the above NumPy array\n",
    "\n",
    "fig, ax = plt.subplots() # create the elements required for matplotlib. This creates a figure containing a single axes.\n",
    "\n",
    "# set the labels and titles:\n",
    "ax.set_xlabel(r'$x$', fontsize=20) # set the x label\n",
    "ax.set_ylabel(r'$\\sin (x)$', fontsize=20) # set the y label. Note that the 'r' is necessary to remove the need for double slashes. You can use LaTeX! \n",
    "ax.set_title('A first plot using Matplotlib', fontsize=25) # set the title \n",
    "\n",
    "# make a one-dimensional plot using the above arrays, add a custom label\n",
    "ax.plot(x, y, label='a sine curve') \n",
    "\n",
    "# change the axis labels to correspond to [0, pi/2, pi, 1.5 * pi, 2*pi, 2.5*pi, 3*pi]\n",
    "ax.set_xticks([0, pi/2, pi, 1.5 * pi, 2*pi, 2.5*pi, 3*pi])\n",
    "ax.set_xticklabels(['0', '$\\\\pi/2$', '$\\\\pi$', '$3\\\\pi/2$', '$2\\\\pi$', '$5\\\\pi/2$', '$3\\\\pi$'])\n",
    "\n",
    "# plot vertical lines at pi/2, pi, 3pi/2, 2pi, 5pi/2, 3pi\n",
    "ax.vlines(x=pi/2, ymin=-1, ymax=1, linewidth=1, ls='--', color='black')\n",
    "ax.vlines(x=pi, ymin=-1, ymax=1, linewidth=1, ls='--', color='black')\n",
    "ax.vlines(x=3*pi/2, ymin=-1, ymax=1, linewidth=1, ls='--', color='black')\n",
    "ax.vlines(x=2*pi, ymin=-1, ymax=1, linewidth=1, ls='--', color='black')\n",
    "ax.vlines(x=2.5*pi, ymin=-1, ymax=1, linewidth=1, ls='--', color='black')\n",
    "ax.vlines(x=3.0*pi, ymin=-1, ymax=1, linewidth=1, ls='--', color='black')\n",
    "\n",
    "# construct the legend:\n",
    "ax.legend(loc='upper right')  # Add a legend\n",
    "\n",
    "plt.show() # show the plot here"
   ]
  },
  {
   "cell_type": "markdown",
   "id": "0b2ee3a8-76fe-4157-bf46-7c7b82c6a72e",
   "metadata": {},
   "source": [
    "One can plot with different colors and linestyles. See https://matplotlib.org/stable/api/_as_gen/matplotlib.lines.Line2D.html#matplotlib.lines.Line2D.set_linestyle for linestyles and https://matplotlib.org/stable/users/explain/colors/colors.html for colors. "
   ]
  },
  {
   "cell_type": "code",
   "execution_count": 3,
   "id": "5cfbb3a7-277d-4489-a508-756a54c64901",
   "metadata": {},
   "outputs": [
    {
     "data": {
      "image/png": "[encoded data removed]",
      "text/plain": [
       "<Figure size 640x480 with 1 Axes>"
      ]
     },
     "metadata": {},
     "output_type": "display_data"
    }
   ],
   "source": [
    "import matplotlib.pyplot as plt # import matplotlib, a conventional module name is plt\n",
    "import numpy as np\n",
    "\n",
    "x = np.linspace(0, 2 * np.pi, 200) # creates a NumPy array from 0 to 2pi, 200 equallys-paced points  \n",
    "y = np.sin(x) # take the NumPy array and create another one, where each term is now the sine of each of the elements of the above NumPy array\n",
    "z = np.cos(x) # also get a cosine \n",
    "\n",
    "fig, ax = plt.subplots() # create the elements required for matplotlib. This creates a figure containing a single axes.\n",
    "\n",
    "# set the labels and titles:\n",
    "ax.set_xlabel(r'$x$', fontsize=20) # set the x label\n",
    "ax.set_ylabel(r'$y(x)$', fontsize=20) # set the y label\n",
    "ax.set_title('A first plot using Matplotlib', fontsize=25) # set the title \n",
    "\n",
    "# set the x and y limits:\n",
    "ax.set_xlim(0, 7)\n",
    "ax.set_ylim(-1.1,1.1)\n",
    "\n",
    "# make one-dimensional plots using the above arrays, add a custom label, linestyles and colors:\n",
    "ax.plot(x, y, color='blue', linestyle='-', label='a sine curve') \n",
    "ax.plot(x, z, color='red', linestyle='-.', label='a cos curve') \n",
    "\n",
    "# construct the legend:\n",
    "ax.legend(loc='upper center')  # Add a legend\n",
    "\n",
    "plt.show() # show the plot here"
   ]
  },
  {
   "cell_type": "markdown",
   "id": "be2fdd7d-8b5e-433c-9577-e737a858ee1c",
   "metadata": {},
   "source": [
    "You can also create scatter plots! Here's an example, where we generate a completely uncorrelated set and a slightly correlated set: "
   ]
  },
  {
   "cell_type": "code",
   "execution_count": 34,
   "id": "b09e8d62-6d3c-4798-bc10-51a0fc1b3ba4",
   "metadata": {},
   "outputs": [
    {
     "data": {
      "image/png": "[encoded data removed]",
      "text/plain": [
       "<Figure size 640x480 with 1 Axes>"
      ]
     },
     "metadata": {},
     "output_type": "display_data"
    }
   ],
   "source": [
    "import matplotlib.pyplot as plt # import matplotlib, a conventional module name is plt\n",
    "import numpy as np\n",
    "\n",
    "x = np.linspace(0, 1, 200) # creates a NumPy array from 0 to 2pi, 200 equallys-paced points \n",
    "# Now suppose that we have random noise around the curve y = x: \n",
    "y = 0.5*(x+np.random.random(200)) # generates a NumPy array of size 200 with random floats in [0,1)\n",
    "\n",
    "# now generate a completely uncorrelated sample of size 200 \n",
    "z = np.random.random(200)\n",
    "h = np.random.random(200)\n",
    "\n",
    "fig, ax = plt.subplots() # create the elements required for matplotlib. This creates a figure containing a single axes.\n",
    "\n",
    "# set the labels and titles:\n",
    "ax.set_xlabel(r'$a$', fontsize=20) # set the x label\n",
    "ax.set_ylabel(r'$b$', fontsize=20) # set the y label\n",
    "ax.set_title('A scatter plot using Matplotlib', fontsize=20) # set the title \n",
    "\n",
    "# make one-dimensional plots using the above arrays, add a custom label, marker styles and colors:\n",
    "ax.scatter(x, y, color='blue', marker='x', label='linearly-correlated') \n",
    "ax.scatter(z, h, color='red', marker='o',  label='uncorrelated') \n",
    "\n",
    "# construct the legend:\n",
    "ax.legend(loc='upper center', framealpha=1.0)  # Add a legend, make it opaque\n",
    "\n",
    "plt.show() # show the plot here"
   ]
  },
  {
   "cell_type": "markdown",
   "id": "bbaad403-49b3-4786-bffc-40099008b961",
   "metadata": {},
   "source": [
    "Matplotlib can also generate 2D plots, e.g. contours: "
   ]
  },
  {
   "cell_type": "code",
   "execution_count": 49,
   "id": "a0e5e131-a92e-4044-8913-9ba4dc21c87b",
   "metadata": {},
   "outputs": [
    {
     "data": {
      "image/png": "[encoded data removed]",
      "text/plain": [
       "<Figure size 200x200 with 1 Axes>"
      ]
     },
     "metadata": {},
     "output_type": "display_data"
    }
   ],
   "source": [
    "import matplotlib.pyplot as plt\n",
    "import numpy as np\n",
    "\n",
    "# make data: X and Y are defined over a 100x100 grid between (-1,1) in both dimensions. \n",
    "X, Y = np.meshgrid(np.linspace(-1, 1, 100), np.linspace(-1, 1, 100))\n",
    "\n",
    "# now calculate a function over this grid, e.g.: \n",
    "Z = np.exp(-5*X**2) * np.exp(-2.5*Y**2)\n",
    "levels = np.linspace(np.min(Z), np.max(Z), 6) # calculate six 'levels' on the contour\n",
    "\n",
    "# plot\n",
    "fig, ax = plt.subplots()\n",
    "\n",
    "# make the contour:\n",
    "ax.contour(X, Y, Z, levels=levels)\n",
    "\n",
    "plt.show()"
   ]
  },
  {
   "cell_type": "markdown",
   "id": "21240edc-b4a4-475d-ae7a-b043902a73b7",
   "metadata": {},
   "source": [
    "This can also be a \"filled\" contour, and you can add a color bar to help understand the contour:  "
   ]
  },
  {
   "cell_type": "code",
   "execution_count": 52,
   "id": "e465ce05-b649-447e-b2ca-13b9545f0909",
   "metadata": {},
   "outputs": [
    {
     "data": {
      "image/png": "[encoded data removed]",
      "text/plain": [
       "<Figure size 200x200 with 2 Axes>"
      ]
     },
     "metadata": {},
     "output_type": "display_data"
    }
   ],
   "source": [
    "import matplotlib.pyplot as plt\n",
    "import numpy as np\n",
    "\n",
    "# make data: X and Y are defined over a 100x100 grid between (-1,1) in both dimensions. \n",
    "X, Y = np.meshgrid(np.linspace(-1, 1, 100), np.linspace(-1, 1, 100))\n",
    "\n",
    "# now calculate a function over this grid, e.g.: \n",
    "Z = np.exp(-5*X**2) * np.exp(-2.5*Y**2)\n",
    "levels = np.linspace(np.min(Z), np.max(Z), 6) # calculate six 'levels' on the contour\n",
    "\n",
    "# plot\n",
    "fig, ax = plt.subplots()\n",
    "\n",
    "# make the contour:\n",
    "cs = ax.contourf(X, Y, Z, levels=levels)\n",
    "\n",
    "# add a color bar:\n",
    "cbar = fig.colorbar(cs)\n",
    "\n",
    "plt.show()"
   ]
  },
  {
   "cell_type": "markdown",
   "id": "b8de1110-a31d-43b9-b43b-622de0801a84",
   "metadata": {},
   "source": [
    "You can also plot in three-dimensions: "
   ]
  },
  {
   "cell_type": "code",
   "execution_count": 55,
   "id": "f7b8d124-5506-476b-9b4f-0d9ac87df23e",
   "metadata": {},
   "outputs": [
    {
     "data": {
      "image/png": "[encoded data removed]",
      "text/plain": [
       "<Figure size 200x200 with 1 Axes>"
      ]
     },
     "metadata": {},
     "output_type": "display_data"
    }
   ],
   "source": [
    "import matplotlib.pyplot as plt\n",
    "import numpy as np\n",
    "\n",
    "from matplotlib import cm\n",
    "\n",
    "# Make data\n",
    "X = np.arange(-5, 5, 0.25)\n",
    "Y = np.arange(-5, 5, 0.25)\n",
    "X, Y = np.meshgrid(X, Y) # You need the data to be defined over a grid \n",
    "R = np.sqrt(X**2 + Y**2)\n",
    "Z = np.sin(R)\n",
    "\n",
    "# Plot the surface\n",
    "fig, ax = plt.subplots(subplot_kw={\"projection\": \"3d\"})\n",
    "ax.plot_surface(X, Y, Z, vmin=Z.min() * 2, cmap=cm.Blues)\n",
    "\n",
    "ax.set(xticklabels=[],\n",
    "       yticklabels=[],\n",
    "       zticklabels=[]) # remove tick labels\n",
    "\n",
    "plt.show()"
   ]
  },
  {
   "cell_type": "markdown",
   "id": "997542aa-5cf7-46d9-b174-0c9c4debcd42",
   "metadata": {},
   "source": [
    "There's tons of functionality in Matplotlib! For examples, check out: https://matplotlib.org/stable/plot_types/index.html and https://matplotlib.org/stable/gallery/index.html."
   ]
  },
  {
   "cell_type": "markdown",
   "id": "bdb05597-5893-4ad3-90af-a7086880ea81",
   "metadata": {},
   "source": [
    "### Other Useful Modules\n"
   ]
  },
  {
   "cell_type": "markdown",
   "id": "a1c1bd7d-20ad-4020-88a9-281cfd77ba16",
   "metadata": {},
   "source": [
    "#### pandas\n",
    "\n",
    "According to the pandas webpage: https://pandas.pydata.org\n",
    "\n",
    "> pandas is a fast, powerful, flexible and easy to use open source data analysis and manipulation tool,\n",
    "built on top of the Python programming language.\n",
    "\n",
    "pandas is useful when working with tabular data, such as data stored in spreadsheets or databases. pandas can help you to explore, clean, and process your data. In pandas, a data table is called a ```DataFrame```.\n",
    "\n",
    "We will introduce some pandas functionality during the course. \n",
    "\n"
   ]
  },
  {
   "cell_type": "markdown",
   "id": "da4f6bb0-8d42-4396-b6b3-83088da8c398",
   "metadata": {},
   "source": [
    "#### PrettyTable\n",
    "\n",
    "PrettyTable is \"a simple Python library for easily displaying tabular data in a visually appealing ASCII table format\". (https://pypi.org/project/prettytable/). \n",
    "\n",
    "Here's an example: "
   ]
  },
  {
   "cell_type": "code",
   "execution_count": 56,
   "id": "c62ee946-931c-48bd-8f84-83ab4ede9eee",
   "metadata": {},
   "outputs": [
    {
     "name": "stdout",
     "output_type": "stream",
     "text": [
      "+---------------+-----------------+------+\n",
      "| Particle Name | Electric Charge | Spin |\n",
      "+---------------+-----------------+------+\n",
      "|    Electron   |        -1       | 1/2  |\n",
      "|     Photon    |        0        |  1   |\n",
      "|  Higgs Boson  |        0        |  1   |\n",
      "|    Positron   |        +1       | 1/2  |\n",
      "|    Graviton   |        0        |  2   |\n",
      "+---------------+-----------------+------+\n"
     ]
    }
   ],
   "source": [
    "from prettytable import PrettyTable\n",
    "\n",
    "x = PrettyTable()\n",
    "x.field_names = [\"Particle Name\", \"Electric Charge\", \"Spin\"]\n",
    "x.add_row([\"Electron\", \"-1\", \"1/2\"])\n",
    "x.add_row([\"Photon\", \"0\", \"1\"])\n",
    "x.add_row([\"Higgs Boson\", \"0\", \"1\"])\n",
    "x.add_row([\"Positron\", \"+1\", \"1/2\"])\n",
    "x.add_row([\"Graviton\", \"0\", \"2\"])\n",
    "print(x)\n"
   ]
  },
  {
   "cell_type": "markdown",
   "id": "dffa5aec-2ca9-45de-91f7-3ee668147aaf",
   "metadata": {},
   "source": [
    "#### tqdm\n",
    "\n",
    "With ```tqdm``` you can instantly make your loops show a smart progress meter. e.g.: "
   ]
  },
  {
   "cell_type": "code",
   "execution_count": 60,
   "id": "1210b134-4a86-4845-a948-ab6ecc18b4c9",
   "metadata": {},
   "outputs": [
    {
     "name": "stderr",
     "output_type": "stream",
     "text": [
      "100%|██████████████████████████████████████████████████████████████████████████████████████████████████████████████████████████████████████████████████████████████████████| 20/20 [00:02<00:00,  9.55it/s]\n"
     ]
    }
   ],
   "source": [
    "from tqdm import tqdm\n",
    "import time\n",
    "for i in tqdm(range(20)):\n",
    "    time.sleep(0.1)"
   ]
  },
  {
   "cell_type": "markdown",
   "id": "424ca489-1028-4339-9fb4-13c7a4ab666a",
   "metadata": {},
   "source": [
    "#### SymPy\n",
    "\n",
    "From the SymPy webpage (https://www.sympy.org/en/index.html):\n",
    "\n",
    "> SymPy is a Python library for symbolic mathematics. It aims to become a full-featured computer algebra system (CAS) while keeping the code as simple as possible in order to be comprehensible and easily extensible. SymPy is written entirely in Python.\n",
    "\n",
    "Here's an example of what SymPy can do:"
   ]
  },
  {
   "cell_type": "code",
   "execution_count": 63,
   "id": "5cdeecb2-e4fe-4642-80d4-2e1466400ab4",
   "metadata": {},
   "outputs": [
    {
     "data": {
      "image/png": "[encoded data removed]",
      "text/latex": [
       "$\\displaystyle e^{x} \\sin{\\left(x \\right)} + e^{x} \\cos{\\left(x \\right)}$"
      ],
      "text/plain": [
       " x           x       \n",
       "ℯ ⋅sin(x) + ℯ ⋅cos(x)"
      ]
     },
     "execution_count": 63,
     "metadata": {},
     "output_type": "execute_result"
    }
   ],
   "source": [
    "from sympy import *\n",
    "x, t, z, nu = symbols('x t z nu')\n",
    "\n",
    "init_printing(use_unicode=True) \n",
    "\n",
    "# take the derivative of sin(x) * exp(x) wrt. x:\n",
    "diff(sin(x)*exp(x), x)"
   ]
  },
  {
   "cell_type": "code",
   "execution_count": 64,
   "id": "827520a3-3c3b-4824-9f3f-de19ee76cb6b",
   "metadata": {},
   "outputs": [
    {
     "data": {
      "image/png": "[encoded data removed]",
      "text/latex": [
       "$\\displaystyle e^{x} \\sin{\\left(x \\right)}$"
      ],
      "text/plain": [
       " x       \n",
       "ℯ ⋅sin(x)"
      ]
     },
     "execution_count": 64,
     "metadata": {},
     "output_type": "execute_result"
    }
   ],
   "source": [
    "integrate(exp(x)*sin(x) + exp(x)*cos(x), x) # integrate the above to get the function back!"
   ]
  },
  {
   "cell_type": "code",
   "execution_count": 65,
   "id": "845ea6dd-e37c-4f7c-b81f-6ef8150931d4",
   "metadata": {},
   "outputs": [
    {
     "data": {
      "image/png": "[encoded data removed]",
      "text/latex": [
       "$\\displaystyle \\frac{\\sqrt{2} \\sqrt{\\pi}}{2}$"
      ],
      "text/plain": [
       "√2⋅√π\n",
       "─────\n",
       "  2  "
      ]
     },
     "execution_count": 65,
     "metadata": {},
     "output_type": "execute_result"
    }
   ],
   "source": [
    "# calculate the integral of sin(x**2) dx from -infinity to +infinity:\n",
    "integrate(sin(x**2), (x, -oo, oo))"
   ]
  },
  {
   "cell_type": "code",
   "execution_count": 66,
   "id": "45b19ed3-4560-48f2-a5f3-01efcadbcd06",
   "metadata": {},
   "outputs": [
    {
     "data": {
      "image/png": "[encoded data removed]",
      "text/latex": [
       "$\\displaystyle 1$"
      ],
      "text/plain": [
       "1"
      ]
     },
     "execution_count": 66,
     "metadata": {},
     "output_type": "execute_result"
    }
   ],
   "source": [
    "# find the limit of sin(x)/x as x->0:\n",
    "limit(sin(x)/x, x, 0)"
   ]
  },
  {
   "cell_type": "code",
   "execution_count": 68,
   "id": "c2993e1c-35b8-4e50-bc04-0315c7c55f16",
   "metadata": {},
   "outputs": [
    {
     "data": {
      "image/png": "[encoded data removed]",
      "text/latex": [
       "$\\displaystyle \\left[ - \\sqrt{2}, \\  \\sqrt{2}\\right]$"
      ],
      "text/plain": [
       "[-√2, √2]"
      ]
     },
     "execution_count": 68,
     "metadata": {},
     "output_type": "execute_result"
    }
   ],
   "source": [
    "# solve the equation x**2 - 2 = 0 for x:\n",
    "solve(x**2 - 2, x)"
   ]
  },
  {
   "cell_type": "markdown",
   "id": "07fd0c39-abc6-467e-966e-16ef43f37e20",
   "metadata": {},
   "source": [
    "You can also output directly in LaTeX!"
   ]
  },
  {
   "cell_type": "code",
   "execution_count": 69,
   "id": "1b3cfef2-9fa1-457f-8081-bbbc5453155a",
   "metadata": {},
   "outputs": [
    {
     "data": {
      "text/plain": [
       "'\\\\int\\\\limits_{0}^{\\\\pi} \\\\cos^{2}{\\\\left(x \\\\right)}\\\\, dx'"
      ]
     },
     "execution_count": 69,
     "metadata": {},
     "output_type": "execute_result"
    }
   ],
   "source": [
    "latex(Integral(cos(x)**2, (x, 0, pi)))"
   ]
  },
  {
   "cell_type": "code",
   "execution_count": 79,
   "id": "ba2df440-68df-40e7-920e-0ab64cc35fd8",
   "metadata": {},
   "outputs": [],
   "source": [
    "init_printing(use_unicode=False) "
   ]
  },
  {
   "cell_type": "markdown",
   "id": "4e9616c4-be2a-474c-a9bd-8021e6582baa",
   "metadata": {},
   "source": [
    "#### Machine Learning with PyTorch\n",
    "\n",
    "According to Wikipedia (https://en.wikipedia.org/wiki/PyTorch):\n",
    "\n",
    "> PyTorch is a machine learning framework based on the Torch library, used for applications such as computer vision and natural language processing, originally developed by Meta AI and now part of the Linux Foundation umbrella."
   ]
  },
  {
   "cell_type": "code",
   "execution_count": null,
   "id": "49eb04ee-9b52-4b2e-8189-6113170c8e42",
   "metadata": {},
   "outputs": [],
   "source": []
  }
 ],
 "metadata": {
  "kernelspec": {
   "display_name": "Python 3 (ipykernel)",
   "language": "python",
   "name": "python3"
  },
  "language_info": {
   "codemirror_mode": {
    "name": "ipython",
    "version": 3
   },
   "file_extension": ".py",
   "mimetype": "text/x-python",
   "name": "python",
   "nbconvert_exporter": "python",
   "pygments_lexer": "ipython3",
   "version": "3.10.14"
  }
 },
 "nbformat": 4,
 "nbformat_minor": 5
}
